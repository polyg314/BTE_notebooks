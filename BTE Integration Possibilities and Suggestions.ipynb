{
 "cells": [
  {
   "cell_type": "markdown",
   "metadata": {},
   "source": [
    "# BTE Integration Possibilities and Suggestions\n",
    "\n",
    "By Paul Gaudin"
   ]
  },
  {
   "cell_type": "markdown",
   "metadata": {},
   "source": [
    "## 1. Functionality to allow 2+ inputs, intermediates, and outputs\n",
    "\n",
    "Functionality I have been using in my use case notebooks often relies on getting the predictions from many input nodes, intermediate types, and output types. This, in turn, could look like a funciton that takes lists of input objects, and lists of intermediate types and output types, then concatenates the results into one single dataframe for the provided the result. \n",
    "\n",
    "Here is what the funciton would could look like: "
   ]
  },
  {
   "cell_type": "code",
   "execution_count": 2,
   "metadata": {},
   "outputs": [],
   "source": [
    "def predict_many(input_object_list, output_type_list, intermediate_node_list):\n",
    "    df_list = []\n",
    "    for input_object in input_object_list: \n",
    "        for output_type in output_type_list: \n",
    "            for inter in intermediate_node_list:\n",
    "                try: \n",
    "                    print(\"Intermediate Node type running:\")\n",
    "                    print(inter)\n",
    "                    fc = FindConnection(input_obj=input_object, output_obj=output_type, intermediate_nodes=[inter])\n",
    "                    fc.connect(verbose=False)\n",
    "                    df = fc.display_table_view()\n",
    "                    rows = df.shape[0]\n",
    "                    if(rows > 0):\n",
    "                        df_list.append(df)\n",
    "                except:\n",
    "                    print(\"FAILED\")\n",
    "    if(len(df_list) > 0):\n",
    "        return pd.concat(df_list)\n",
    "    else:\n",
    "        return None"
   ]
  },
  {
   "cell_type": "markdown",
   "metadata": {},
   "source": [
    "## 2. Get Edges Out Count from Genes\n",
    "\n",
    "This is a metric I use in the use cases as a rough estimate of gene specificity / how well researched a gene is. The functionality to obtain this from a list of gene symbols looks as follows: "
   ]
  },
  {
   "cell_type": "code",
   "execution_count": 13,
   "metadata": {},
   "outputs": [],
   "source": [
    "## node type list is list of all nodes\n",
    "def get_gene_edges_out_count(gene_list, node_type_list):\n",
    "    # dictionary that keeps track of all connections from a gene to any node type \n",
    "    connection_dict = {}\n",
    "    for gene_symbol in gene_list:\n",
    "        gene_found = False\n",
    "        gene_query = ht.query(gene_symbol)['Gene']\n",
    "        for i in gene_query:\n",
    "            if(i['SYMBOL'].lower() == gene_symbol.lower()):\n",
    "                gene = i\n",
    "                gene_found = True\n",
    "        if(gene_found == True):\n",
    "            count = 0\n",
    "            input_object = gene\n",
    "            for x in node_type_list:\n",
    "                try: \n",
    "                    ## only look at direct connections\n",
    "                    fc = FindConnection(input_obj=input_object, output_obj=x, intermediate_nodes=None)\n",
    "                    fc.connect(verbose=False)\n",
    "                    df = fc.display_table_view()\n",
    "                    rows = df.shape[0]\n",
    "                    count = count + rows\n",
    "                except: \n",
    "                    print(\"gene \" + str(gene_symbol) + \" for node intermediate \" + str(x) + \" failed\")\n",
    "            connection_dict[gene_symbol]  = count\n",
    "        else:\n",
    "            print(gene_symbol + ' could not be found')\n",
    "            connection_dict[gene_symbol] = 'Unknown'\n",
    "    return(connection_dict)\n"
   ]
  },
  {
   "cell_type": "code",
   "execution_count": 14,
   "metadata": {},
   "outputs": [
    {
     "name": "stdout",
     "output_type": "stream",
     "text": [
      "ASLD5 could not be found\n"
     ]
    },
    {
     "data": {
      "text/plain": [
       "{'F5': 783, 'F3': 1903, 'XPA': 531, 'ASLD5': 'Unknown'}"
      ]
     },
     "execution_count": 14,
     "metadata": {},
     "output_type": "execute_result"
    }
   ],
   "source": [
    "from biothings_explorer.user_query_dispatcher import FindConnection\n",
    "from biothings_explorer.hint import Hint\n",
    "ht = Hint()\n",
    "node_type_list = (['Gene', 'SequenceVariant', 'ChemicalSubstance', 'Disease', \n",
    "                'MolecularActivity', 'BiologicalProcess', 'CellularComponent', \n",
    "                'Pathway', 'AnatomicalEntity', 'PhenotypicFeature'])\n",
    "\n",
    "## for example purposes, include ASLD5. - not a real gene as far as I know\n",
    "example_gene_counts = get_gene_edges_out_count(['F5','F3','XPA','ASLD5'], node_type_list)\n",
    "example_gene_counts"
   ]
  },
  {
   "cell_type": "markdown",
   "metadata": {},
   "source": [
    "### 2.1 Idea: Alternative for gene counts functions\n",
    "\n",
    "Since there are only about 20k protein coding genes in humans, I imagine it would be possible to store the 'edges out' counts from genes, incorporate as new 'API', and periodically update these. This would in turn save people (or at least me personally) time when looking to obtain this \"edges out\" count from genes"
   ]
  },
  {
   "cell_type": "markdown",
   "metadata": {},
   "source": [
    "## 3. Querying for Disease Symptoms"
   ]
  }
 ],
 "metadata": {
  "kernelspec": {
   "display_name": "Python 3",
   "language": "python",
   "name": "python3"
  },
  "language_info": {
   "codemirror_mode": {
    "name": "ipython",
    "version": 3
   },
   "file_extension": ".py",
   "mimetype": "text/x-python",
   "name": "python",
   "nbconvert_exporter": "python",
   "pygments_lexer": "ipython3",
   "version": "3.8.4"
  }
 },
 "nbformat": 4,
 "nbformat_minor": 4
}
