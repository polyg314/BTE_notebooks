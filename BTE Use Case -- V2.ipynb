{
 "cells": [
  {
   "cell_type": "markdown",
   "metadata": {},
   "source": [
    "# BTE -- Question #2 -- Use Case Workflow"
   ]
  },
  {
   "cell_type": "code",
   "execution_count": 1,
   "metadata": {},
   "outputs": [],
   "source": [
    "import pandas as pd\n",
    "from biothings_explorer.user_query_dispatcher import FindConnection\n",
    "from biothings_explorer.hint import Hint\n",
    "ht = Hint()"
   ]
  },
  {
   "cell_type": "markdown",
   "metadata": {},
   "source": [
    "## 1. Get Disease Symptoms and Symptom Information "
   ]
  },
  {
   "cell_type": "markdown",
   "metadata": {},
   "source": [
    "### 1.1 Get Disease"
   ]
  },
  {
   "cell_type": "code",
   "execution_count": 2,
   "metadata": {},
   "outputs": [
    {
     "ename": "RuntimeError",
     "evalue": "Cannot run the event loop while another loop is running",
     "output_type": "error",
     "traceback": [
      "\u001b[0;31m---------------------------------------------------------------------------\u001b[0m",
      "\u001b[0;31mRuntimeError\u001b[0m                              Traceback (most recent call last)",
      "\u001b[0;32m<ipython-input-2-7c9d5ab542d4>\u001b[0m in \u001b[0;36m<module>\u001b[0;34m\u001b[0m\n\u001b[1;32m      1\u001b[0m \u001b[0mdisease_name\u001b[0m \u001b[0;34m=\u001b[0m \u001b[0;34m'xeroderma pigmentosum'\u001b[0m\u001b[0;34m\u001b[0m\u001b[0;34m\u001b[0m\u001b[0m\n\u001b[0;32m----> 2\u001b[0;31m \u001b[0mdisease\u001b[0m \u001b[0;34m=\u001b[0m \u001b[0mht\u001b[0m\u001b[0;34m.\u001b[0m\u001b[0mquery\u001b[0m\u001b[0;34m(\u001b[0m\u001b[0;34m'MONDO:0019600'\u001b[0m\u001b[0;34m)\u001b[0m\u001b[0;34m[\u001b[0m\u001b[0;34m'Disease'\u001b[0m\u001b[0;34m]\u001b[0m\u001b[0;34m[\u001b[0m\u001b[0;36m0\u001b[0m\u001b[0;34m]\u001b[0m\u001b[0;34m\u001b[0m\u001b[0;34m\u001b[0m\u001b[0m\n\u001b[0m\u001b[1;32m      3\u001b[0m \u001b[0mprint\u001b[0m\u001b[0;34m(\u001b[0m\u001b[0mdisease\u001b[0m\u001b[0;34m)\u001b[0m\u001b[0;34m\u001b[0m\u001b[0;34m\u001b[0m\u001b[0m\n",
      "\u001b[0;32m/Library/Frameworks/Python.framework/Versions/3.8/lib/python3.8/site-packages/biothings_explorer/hint.py\u001b[0m in \u001b[0;36mquery\u001b[0;34m(self, _input, semantic_type)\u001b[0m\n\u001b[1;32m     72\u001b[0m         \u001b[0mself\u001b[0m\u001b[0;34m.\u001b[0m\u001b[0mconstruct_api_calls\u001b[0m\u001b[0;34m(\u001b[0m\u001b[0m_input\u001b[0m\u001b[0;34m)\u001b[0m\u001b[0;34m\u001b[0m\u001b[0;34m\u001b[0m\u001b[0m\n\u001b[1;32m     73\u001b[0m         \u001b[0;31m# make API calls asynchronously and gather all outputs\u001b[0m\u001b[0;34m\u001b[0m\u001b[0;34m\u001b[0m\u001b[0;34m\u001b[0m\u001b[0m\n\u001b[0;32m---> 74\u001b[0;31m         \u001b[0mself\u001b[0m\u001b[0;34m.\u001b[0m\u001b[0mresponses\u001b[0m\u001b[0;34m,\u001b[0m \u001b[0m_\u001b[0m \u001b[0;34m=\u001b[0m \u001b[0mself\u001b[0m\u001b[0;34m.\u001b[0m\u001b[0mcaller\u001b[0m\u001b[0;34m.\u001b[0m\u001b[0mcall_apis\u001b[0m\u001b[0;34m(\u001b[0m\u001b[0mself\u001b[0m\u001b[0;34m.\u001b[0m\u001b[0mapi_call_inputs\u001b[0m\u001b[0;34m)\u001b[0m\u001b[0;34m\u001b[0m\u001b[0;34m\u001b[0m\u001b[0m\n\u001b[0m\u001b[1;32m     75\u001b[0m         \u001b[0;32mreturn\u001b[0m \u001b[0mself\u001b[0m\u001b[0;34m.\u001b[0m\u001b[0mparse_api_responses\u001b[0m\u001b[0;34m(\u001b[0m\u001b[0;34m)\u001b[0m\u001b[0;34m\u001b[0m\u001b[0;34m\u001b[0m\u001b[0m\n\u001b[1;32m     76\u001b[0m \u001b[0;34m\u001b[0m\u001b[0m\n",
      "\u001b[0;32m/Library/Frameworks/Python.framework/Versions/3.8/lib/python3.8/site-packages/biothings_explorer/apicall.py\u001b[0m in \u001b[0;36mcall_apis\u001b[0;34m(self, inputs, verbose, loop)\u001b[0m\n\u001b[1;32m    228\u001b[0m         \u001b[0;32mif\u001b[0m \u001b[0;32mnot\u001b[0m \u001b[0mloop\u001b[0m\u001b[0;34m:\u001b[0m\u001b[0;34m\u001b[0m\u001b[0;34m\u001b[0m\u001b[0m\n\u001b[1;32m    229\u001b[0m             \u001b[0mloop\u001b[0m \u001b[0;34m=\u001b[0m \u001b[0masyncio\u001b[0m\u001b[0;34m.\u001b[0m\u001b[0mnew_event_loop\u001b[0m\u001b[0;34m(\u001b[0m\u001b[0;34m)\u001b[0m\u001b[0;34m\u001b[0m\u001b[0;34m\u001b[0m\u001b[0m\n\u001b[0;32m--> 230\u001b[0;31m         \u001b[0;32mreturn\u001b[0m \u001b[0;34m(\u001b[0m\u001b[0mloop\u001b[0m\u001b[0;34m.\u001b[0m\u001b[0mrun_until_complete\u001b[0m\u001b[0;34m(\u001b[0m\u001b[0mself\u001b[0m\u001b[0;34m.\u001b[0m\u001b[0mrun\u001b[0m\u001b[0;34m(\u001b[0m\u001b[0minputs\u001b[0m\u001b[0;34m,\u001b[0m \u001b[0mverbose\u001b[0m\u001b[0;34m=\u001b[0m\u001b[0mverbose\u001b[0m\u001b[0;34m)\u001b[0m\u001b[0;34m)\u001b[0m\u001b[0;34m,\u001b[0m \u001b[0mself\u001b[0m\u001b[0;34m.\u001b[0m\u001b[0mlog\u001b[0m\u001b[0;34m)\u001b[0m\u001b[0;34m\u001b[0m\u001b[0;34m\u001b[0m\u001b[0m\n\u001b[0m\u001b[1;32m    231\u001b[0m         \u001b[0;31m# res = asyncio.run(self.run(inputs, verbose=verbose))\u001b[0m\u001b[0;34m\u001b[0m\u001b[0;34m\u001b[0m\u001b[0;34m\u001b[0m\u001b[0m\n\u001b[1;32m    232\u001b[0m         \u001b[0;31m# return (res, self.log)\u001b[0m\u001b[0;34m\u001b[0m\u001b[0;34m\u001b[0m\u001b[0;34m\u001b[0m\u001b[0m\n",
      "\u001b[0;32m/Library/Frameworks/Python.framework/Versions/3.8/lib/python3.8/asyncio/base_events.py\u001b[0m in \u001b[0;36mrun_until_complete\u001b[0;34m(self, future)\u001b[0m\n\u001b[1;32m    590\u001b[0m         \"\"\"\n\u001b[1;32m    591\u001b[0m         \u001b[0mself\u001b[0m\u001b[0;34m.\u001b[0m\u001b[0m_check_closed\u001b[0m\u001b[0;34m(\u001b[0m\u001b[0;34m)\u001b[0m\u001b[0;34m\u001b[0m\u001b[0;34m\u001b[0m\u001b[0m\n\u001b[0;32m--> 592\u001b[0;31m         \u001b[0mself\u001b[0m\u001b[0;34m.\u001b[0m\u001b[0m_check_running\u001b[0m\u001b[0;34m(\u001b[0m\u001b[0;34m)\u001b[0m\u001b[0;34m\u001b[0m\u001b[0;34m\u001b[0m\u001b[0m\n\u001b[0m\u001b[1;32m    593\u001b[0m \u001b[0;34m\u001b[0m\u001b[0m\n\u001b[1;32m    594\u001b[0m         \u001b[0mnew_task\u001b[0m \u001b[0;34m=\u001b[0m \u001b[0;32mnot\u001b[0m \u001b[0mfutures\u001b[0m\u001b[0;34m.\u001b[0m\u001b[0misfuture\u001b[0m\u001b[0;34m(\u001b[0m\u001b[0mfuture\u001b[0m\u001b[0;34m)\u001b[0m\u001b[0;34m\u001b[0m\u001b[0;34m\u001b[0m\u001b[0m\n",
      "\u001b[0;32m/Library/Frameworks/Python.framework/Versions/3.8/lib/python3.8/asyncio/base_events.py\u001b[0m in \u001b[0;36m_check_running\u001b[0;34m(self)\u001b[0m\n\u001b[1;32m    552\u001b[0m             \u001b[0;32mraise\u001b[0m \u001b[0mRuntimeError\u001b[0m\u001b[0;34m(\u001b[0m\u001b[0;34m'This event loop is already running'\u001b[0m\u001b[0;34m)\u001b[0m\u001b[0;34m\u001b[0m\u001b[0;34m\u001b[0m\u001b[0m\n\u001b[1;32m    553\u001b[0m         \u001b[0;32mif\u001b[0m \u001b[0mevents\u001b[0m\u001b[0;34m.\u001b[0m\u001b[0m_get_running_loop\u001b[0m\u001b[0;34m(\u001b[0m\u001b[0;34m)\u001b[0m \u001b[0;32mis\u001b[0m \u001b[0;32mnot\u001b[0m \u001b[0;32mNone\u001b[0m\u001b[0;34m:\u001b[0m\u001b[0;34m\u001b[0m\u001b[0;34m\u001b[0m\u001b[0m\n\u001b[0;32m--> 554\u001b[0;31m             raise RuntimeError(\n\u001b[0m\u001b[1;32m    555\u001b[0m                 'Cannot run the event loop while another loop is running')\n\u001b[1;32m    556\u001b[0m \u001b[0;34m\u001b[0m\u001b[0m\n",
      "\u001b[0;31mRuntimeError\u001b[0m: Cannot run the event loop while another loop is running"
     ]
    }
   ],
   "source": [
    "disease_name = 'xeroderma pigmentosum'\n",
    "disease = ht.query('MONDO:0019600')['Disease'][0]\n",
    "print(disease)"
   ]
  },
  {
   "cell_type": "markdown",
   "metadata": {},
   "source": [
    "### 1.2 Get 'PhenotypicFeatures' Related to Disease"
   ]
  },
  {
   "cell_type": "code",
   "execution_count": null,
   "metadata": {},
   "outputs": [],
   "source": [
    "fc = FindConnection(input_obj=disease, output_obj='PhenotypicFeature', intermediate_nodes=None)\n",
    "fc.connect(verbose=False)\n",
    "disease_to_phenotypicFeature = fc.display_table_view()"
   ]
  },
  {
   "cell_type": "markdown",
   "metadata": {},
   "source": [
    "Note: all equivalent names for the disease input are as follows: "
   ]
  },
  {
   "cell_type": "code",
   "execution_count": null,
   "metadata": {},
   "outputs": [],
   "source": [
    "for name in fc.fc.display_node_info(disease_name)['equivalent_ids']['name']: print(name)"
   ]
  },
  {
   "cell_type": "code",
   "execution_count": null,
   "metadata": {},
   "outputs": [],
   "source": [
    "symptom_dict = {}\n",
    "for index, row in disease_to_phenotypicFeature.iterrows(): \n",
    "    output_name = row[\"output_name\"]\n",
    "    freq = [_item['info']['frequency'] for _item in fc.fc.G[disease_name][output_name].values() if \"frequency\" in _item[\"info\"]][0][0]\n",
    "    freq_value = ht.query(freq)['PhenotypicFeature'][0]['name']\n",
    "    symptom_dict[fc.fc.display_node_info(output_name)['equivalent_ids']['HP'][0]] = {\n",
    "        \"names\": fc.fc.display_node_info(output_name)['equivalent_ids']['name'],\n",
    "        \"frequency\": freq_value,\n",
    "    }\n",
    "# print(symptom_dict)"
   ]
  },
  {
   "cell_type": "code",
   "execution_count": null,
   "metadata": {},
   "outputs": [],
   "source": [
    "all_node_types = ['Gene', 'SequenceVariant', 'ChemicalSubstance', 'Disease', \n",
    "                'MolecularActivity', 'BiologicalProcess', 'CellularComponent', \n",
    "                'Pathway', 'AnatomicalEntity', 'PhenotypicFeature']\n",
    "\n",
    "for key in symptom_dict:\n",
    "    print(str(key) + ' is running')\n",
    "    edges_out_count = 0\n",
    "    UMLS = ''\n",
    "    # a sign or symptom may show up as a phenotypic feature, a disease, or biological process\n",
    "    for y in ['PhenotypicFeature','Disease','BiologicalProcess']:\n",
    "        if y == 'PhenotypicFeature':\n",
    "            a = ht.query(key)[y]\n",
    "            if len(a) > 0: \n",
    "                b = a[0]\n",
    "                if 'UMLS' in b: \n",
    "                    UMLS = b['UMLS']\n",
    "                for node_intermediate in all_node_types:\n",
    "                    try: \n",
    "                        fc = FindConnection(input_obj=b, output_obj=node_intermediate, intermediate_nodes=None)\n",
    "                        fc.connect(verbose=False)\n",
    "                        df = fc.display_table_view()\n",
    "                        if(df.shape[0] > 0):\n",
    "                            df = df[df[\"output_name\"] != disease_name]\n",
    "                            edges_out_count = edges_out_count + df.shape[0]\n",
    "                    except: \n",
    "                         print(str(y) + \" input to \" + node_intermediate + \" output for \" + str(key) + ' failed')\n",
    "        if(y =='Disease') | (y == 'BiologicalProcess'):\n",
    "            for z in symptom_dict[key][\"names\"]:\n",
    "                if((y == 'Disease') & (len(UMLS) > 0)): \n",
    "                    try: \n",
    "                        a = ht.query(UMLS)[y]\n",
    "                    except: \n",
    "                        a = []\n",
    "                else:\n",
    "                    try: \n",
    "                        a = ht.query(z)[y]\n",
    "                    except: \n",
    "                        a = []\n",
    "                for b in a: \n",
    "                    if b['name'].lower() == z.lower():\n",
    "                        for node_intermediate in all_node_types:\n",
    "                            try: \n",
    "                                fc = FindConnection(input_obj=b, output_obj=node_intermediate, intermediate_nodes=None)\n",
    "                                fc.connect(verbose=False)\n",
    "                                df = fc.display_table_view()\n",
    "                                if(df.shape[0] > 0):\n",
    "                                    df = df[df[\"output_name\"] != disease_name]\n",
    "                                    edges_out_count = edges_out_count + df.shape[0]\n",
    "\n",
    "                            except: \n",
    "                                print(str(y) + \" input to \" + node_intermediate + \" output for \" + str(key) + ' failed')\n",
    "    symptom_dict[key][\"edges_out_count\"] = edges_out_count"
   ]
  },
  {
   "cell_type": "code",
   "execution_count": null,
   "metadata": {},
   "outputs": [],
   "source": [
    "disease_symptom_df = pd.DataFrame.from_dict(symptom_dict, orient='index').sort_values(by=['edges_out_count'])\n",
    "disease_symptom_df = pd.concat([disease_symptom_df[disease_symptom_df[\"frequency\"] == \"Very frequent\"],\n",
    "               disease_symptom_df[disease_symptom_df[\"frequency\"] == \"Frequent\"],\n",
    "               disease_symptom_df[disease_symptom_df[\"frequency\"] == \"Occasional\"],\n",
    "               disease_symptom_df[disease_symptom_df[\"frequency\"] == \"Rare\"],\n",
    "               disease_symptom_df[disease_symptom_df[\"frequency\"] == \"Unknown\"]\n",
    "              ])\n",
    "disease_symptom_df"
   ]
  },
  {
   "cell_type": "markdown",
   "metadata": {},
   "source": [
    "## 2. Get Genes Directly Related to Disease"
   ]
  },
  {
   "cell_type": "code",
   "execution_count": null,
   "metadata": {},
   "outputs": [],
   "source": [
    "def get_disease_to_gene_results(disease_input):\n",
    "\n",
    "    # keep track of number of occurrences from direct disease -> gene connection\n",
    "    print(\"running disease -> gene\")\n",
    "    disease_to_gene_results = {}\n",
    "    #directly related\n",
    "    fc = FindConnection(input_obj=disease_input, output_obj='Gene', intermediate_nodes=None)\n",
    "    fc.connect(verbose=False)\n",
    "    disease_to_genes = fc.display_table_view()\n",
    "\n",
    "    disease_to_genes = disease_to_genes[~disease_to_genes['output_id'].str.contains('UMLS')]\n",
    "\n",
    "\n",
    "    i = list(disease_to_genes[\"output_name\"])\n",
    "    d = {x:i.count(x) for x in i}\n",
    "    sorted_disease_to_genes = {k: v for k, v in sorted(d.items(), key=lambda item: item[1])}\n",
    "    disease_to_gene_results[\"sorted_disease_to_genes\"] = sorted_disease_to_genes\n",
    "    # print(\"occurences of genes directly related to genes\")\n",
    "    # print(disease_to_gene_results[\"sorted_disease_to_genes\"])\n",
    "\n",
    "    one_step_genes_pub_counts = {}\n",
    "    for index, row in disease_to_genes.iterrows():\n",
    "        current_pubcount = 0\n",
    "        if(row[\"pred1_pubmed\"] != None):\n",
    "            current_pubcount = current_pubcount + row[\"pred1_pubmed\"].count(\",\") + 1\n",
    "        if row[\"output_name\"] in one_step_genes_pub_counts:\n",
    "            one_step_genes_pub_counts[row[\"output_name\"]] = one_step_genes_pub_counts[row[\"output_name\"]] + current_pubcount\n",
    "        else: \n",
    "            one_step_genes_pub_counts[row[\"output_name\"]] = current_pubcount\n",
    "    disease_to_gene_results[\"one_step_genes_pub_counts\"] =  one_step_genes_pub_counts\n",
    "\n",
    "    disease_to_genes_list = list(reversed(list(sorted_disease_to_genes.keys())))\n",
    "    disease_to_gene_results[\"disease_to_genes_list\"] = disease_to_genes_list\n",
    "\n",
    "    return(disease_to_gene_results)"
   ]
  },
  {
   "cell_type": "code",
   "execution_count": null,
   "metadata": {},
   "outputs": [],
   "source": [
    "disease_to_gene_results = get_disease_to_gene_results(disease)\n",
    "disease_to_gene_results "
   ]
  },
  {
   "cell_type": "markdown",
   "metadata": {},
   "source": [
    "## 3. Get Top Genes Related to Disease through 1 Intermediate Node"
   ]
  },
  {
   "cell_type": "code",
   "execution_count": null,
   "metadata": {},
   "outputs": [],
   "source": [
    "# get results using intermediates \n",
    "node_type_list = (['Gene', 'SequenceVariant', 'ChemicalSubstance', 'Disease', \n",
    "                'MolecularActivity', 'BiologicalProcess', 'CellularComponent', \n",
    "                'Pathway', 'AnatomicalEntity', 'PhenotypicFeature'])"
   ]
  },
  {
   "cell_type": "code",
   "execution_count": null,
   "metadata": {},
   "outputs": [],
   "source": [
    "def predict_many(input_object_list, output_type_list, intermediate_node_list):\n",
    "    df_list = []\n",
    "    for input_object in input_object_list: \n",
    "        for output_type in output_type_list: \n",
    "            for inter in intermediate_node_list:\n",
    "                try: \n",
    "                    print(\"Intermediate Node type running:\")\n",
    "                    print(inter)\n",
    "                    fc = FindConnection(input_obj=input_object, output_obj=output_type, intermediate_nodes=[inter])\n",
    "                    fc.connect(verbose=False)\n",
    "                    df = fc.display_table_view()\n",
    "                    rows = df.shape[0]\n",
    "                    if(rows > 0):\n",
    "                        df_list.append(df)\n",
    "                except:\n",
    "                    print(\"FAILED\")\n",
    "    if(len(df_list) > 0):\n",
    "        return pd.concat(df_list)\n",
    "    else:\n",
    "        return None"
   ]
  },
  {
   "cell_type": "code",
   "execution_count": null,
   "metadata": {},
   "outputs": [],
   "source": [
    "disease_to_all_nodes_to_genes = predict_many([disease],['Gene'],node_type_list)\n",
    "# Save an object to a file\n",
    "%store disease_to_all_nodes_to_genes"
   ]
  },
  {
   "cell_type": "code",
   "execution_count": null,
   "metadata": {},
   "outputs": [],
   "source": [
    "%store -r disease_to_all_nodes_to_genes"
   ]
  },
  {
   "cell_type": "code",
   "execution_count": null,
   "metadata": {},
   "outputs": [],
   "source": [
    "def get_disease_to_nodes_to_gene_results(disease_all_nodes_genes,max_two_step_gene_count,symptom_list,symptoms_hpids):\n",
    "    disease_to_node_to_gene_results = {}\n",
    "    print(\"finding intermediate nodes that are symptoms\")\n",
    "    indices_with_symptom_as_intermediate = []\n",
    "    go_dict = {}\n",
    "    ## remove all rows with symptoms as intermediates -- first get indices, then remove\n",
    "    for index, row in enumerate(disease_all_nodes_genes.iterrows()):\n",
    "        row = disease_all_nodes_genes.iloc[index]\n",
    "        if row[\"node1_type\"] == 'Disease':\n",
    "            if row[\"node1_name\"].upper() in symptom_list:\n",
    "                indices_with_symptom_as_intermediate.append(index)\n",
    "        elif row[\"node1_type\"] == 'BiologicalProcess':\n",
    "            if row[\"node1_name\"].upper() in symptom_list:\n",
    "                indices_with_symptom_as_intermediate.append(index)\n",
    "        elif row[\"node1_type\"] == 'PhenotypicFeature':\n",
    "            if((row[\"node1_name\"].upper() in symptom_list) or (row[\"node1_name\"] in symptoms_hpids)):\n",
    "                indices_with_symptom_as_intermediate.append(index)\n",
    "\n",
    "    # print(\"indices\")\n",
    "    # print(indices_with_symptom_as_intermediate)\n",
    "    print(\"removing symptom intermediates\")\n",
    "    disease_all_nodes_genes = disease_all_nodes_genes.drop(disease_all_nodes_genes.index[indices_with_symptom_as_intermediate])\n",
    "\n",
    "    print(\"getting gene counts from \" + str(len(list(disease_all_nodes_genes[\"output_name\"]))) + \" gene entries\" )\n",
    "    i = list(disease_all_nodes_genes[\"output_name\"])\n",
    "    # d = {x:i.count(x) for x in i}\n",
    "    d = {}\n",
    "    for x in i: \n",
    "        if x in d: \n",
    "            d[x] = d[x] + 1\n",
    "        else:\n",
    "            d[x] = 1\n",
    "    print(\"sorting counts dictionary\")\n",
    "    sorted_disease_to_all_nodes_to_genes = {k: v for k, v in sorted(d.items(), key=lambda item: item[1])}\n",
    "\n",
    "    print(\"top genes occurrence counts: \")\n",
    "    for x in list(reversed(list(sorted_disease_to_all_nodes_to_genes)))[0:max_two_step_gene_count]:\n",
    "        print(str(x) + \": \" + str(sorted_disease_to_all_nodes_to_genes[x]))\n",
    "    \n",
    "    top_related_genes_to_disease = list(reversed(list(sorted_disease_to_all_nodes_to_genes)))[0:max_two_step_gene_count]\n",
    "\n",
    "    disease_to_node_to_gene_results[\"top_related_genes_to_disease\"] = top_related_genes_to_disease\n",
    "    disease_to_node_to_gene_results[\"sorted_disease_to_all_nodes_to_genes\"] = sorted_disease_to_all_nodes_to_genes\n",
    "\n",
    "    # keep track of pubication counts for genes in two-step disease -> intermediate node -> gene\n",
    "    print(\"getting publicaiton counts\")\n",
    "    top_two_step_genes_pub_counts = {}\n",
    "    for index, row in disease_all_nodes_genes.iterrows():\n",
    "        if row[\"output_name\"] in top_related_genes_to_disease:\n",
    "            current_pubcount = 0\n",
    "            if(row[\"pred1_pubmed\"] != None):\n",
    "                current_pubcount = current_pubcount + str(row[\"pred1_pubmed\"]).count(\",\") + 1\n",
    "            if(row[\"pred2_pubmed\"] != None):\n",
    "                current_pubcount = current_pubcount + str(row[\"pred2_pubmed\"]).count(\",\") + 1\n",
    "            if row[\"output_name\"] in top_two_step_genes_pub_counts:\n",
    "                top_two_step_genes_pub_counts[row[\"output_name\"]] = top_two_step_genes_pub_counts[row[\"output_name\"]] + current_pubcount\n",
    "            else: \n",
    "                top_two_step_genes_pub_counts[row[\"output_name\"]] = current_pubcount\n",
    "\n",
    "    disease_to_node_to_gene_results[\"top_two_step_genes_pub_counts\"] =  top_two_step_genes_pub_counts\n",
    "    \n",
    "    return(disease_to_node_to_gene_results)"
   ]
  },
  {
   "cell_type": "code",
   "execution_count": null,
   "metadata": {},
   "outputs": [],
   "source": [
    "disease_symptom_hpids = list(symptom_dict.keys())\n",
    "disease_symptoms = []\n",
    "for entry in list(symptom_dict.values()): disease_symptoms = disease_symptoms + entry['names']\n",
    "# print(disease_symptoms)"
   ]
  },
  {
   "cell_type": "code",
   "execution_count": null,
   "metadata": {},
   "outputs": [],
   "source": [
    "max_2_step_genes = 200\n",
    "disease_symptoms\n",
    "disease_symptom_hpids\n",
    "disease_to_all_nodes_to_genes_results = get_disease_to_nodes_to_gene_results(disease_to_all_nodes_to_genes, max_2_step_genes, disease_symptoms, disease_symptom_hpids)\n",
    "%store disease_to_all_nodes_to_genes_results"
   ]
  },
  {
   "cell_type": "markdown",
   "metadata": {},
   "source": [
    "## 4. Get Disease Symptoms related to Genes\n",
    "Genes -> Symptoms, then filter based on disease symptoms"
   ]
  },
  {
   "cell_type": "code",
   "execution_count": null,
   "metadata": {},
   "outputs": [],
   "source": [
    "disease_top_genes_list = disease_to_gene_results[\"disease_to_genes_list\"] + disease_to_all_nodes_to_genes_results[\"top_related_genes_to_disease\"]\n",
    "disease_top_genes_list = list(dict.fromkeys(disease_top_genes_list))\n",
    "disease_top_genes_list"
   ]
  },
  {
   "cell_type": "code",
   "execution_count": null,
   "metadata": {},
   "outputs": [],
   "source": [
    "def determined_genes_to_symptoms(gene_list, symptom_list, symptom_dict):\n",
    "\n",
    "    # gene -> phenotypic feature nodes\n",
    "    print(\"Genes -> PhenotypicFeatures\")\n",
    "    df_list = []\n",
    "    for x in gene_list: \n",
    "        try: \n",
    "            gene = ht.query(x)[\"Gene\"][0]\n",
    "            fc = FindConnection(input_obj=gene, output_obj='PhenotypicFeature', intermediate_nodes=None)\n",
    "            fc.connect(verbose=False)\n",
    "            df = fc.display_table_view()\n",
    "            rows = df.shape[0]\n",
    "            if(rows > 0):\n",
    "                df_list.append(df)\n",
    "        except:\n",
    "            print(str(x) + \" FAILED\")\n",
    "    if(len(df_list) > 0):\n",
    "        top_gene_to_phenotypicFeature = pd.concat(df_list)\n",
    "\n",
    "    # top_gene_to_phenotypicFeature = top_gene_to_phenotypicFeature\n",
    "    # top_gene_to_phenotypicFeature\n",
    "    for index in range(top_gene_to_phenotypicFeature.shape[0]):\n",
    "        if(top_gene_to_phenotypicFeature.iloc[index][\"output_name\"] in symptom_dict):\n",
    "            top_gene_to_phenotypicFeature.iloc[index][\"output_name\"] = symptom_dict[top_gene_to_phenotypicFeature.iloc[index][\"output_name\"]]['names'][0]\n",
    "\n",
    "    # gene -> bioprocess\n",
    "    print(\"Genes -> Bioprocesses\")\n",
    "    df_list = []\n",
    "    for x in gene_list: \n",
    "        try: \n",
    "            gene = ht.query(x)[\"Gene\"][0]\n",
    "            fc = FindConnection(input_obj=gene, output_obj='BiologicalProcess', intermediate_nodes=None)\n",
    "            fc.connect(verbose=False)\n",
    "            df = fc.display_table_view()\n",
    "            rows = df.shape[0]\n",
    "            if(rows > 0):\n",
    "                df_list.append(df)\n",
    "        except:\n",
    "            print(str(x) + \" FAILED\")\n",
    "    if(len(df_list) > 0):\n",
    "        top_gene_to_bioprocesses = pd.concat(df_list)\n",
    "\n",
    "    # bioprocess_top = top_gene_to_bioprocesses\n",
    "    # Genes -> disease type \"symptoms\"\n",
    "    print(\"Genes -> Diseases\")\n",
    "    df_list = []\n",
    "    for x in gene_list: \n",
    "        try: \n",
    "            gene = ht.query(x)[\"Gene\"][0]\n",
    "            fc = FindConnection(input_obj=gene, output_obj='Disease', intermediate_nodes=None)\n",
    "            fc.connect(verbose=False)\n",
    "            df = fc.display_table_view()\n",
    "            rows = df.shape[0]\n",
    "            if(rows > 0):\n",
    "                df_list.append(df)\n",
    "        except:\n",
    "            print(str(x) + \" FAILED\")\n",
    "    if(len(df_list) > 0):\n",
    "        top_gene_to_diseases = pd.concat(df_list)\n",
    "\n",
    "    all_gene_connections = pd.concat([top_gene_to_bioprocesses,top_gene_to_phenotypicFeature,top_gene_to_diseases])\n",
    "    all_gene_connections[\"output_name\"] = all_gene_connections[\"output_name\"].str.upper()\n",
    "    return(all_gene_connections)"
   ]
  },
  {
   "cell_type": "code",
   "execution_count": null,
   "metadata": {},
   "outputs": [],
   "source": [
    "def filter_genes_to_symptoms(genes_to_symptoms_df, disease_symptoms):\n",
    "    indices_to_remove = []\n",
    "    for index, row in enumerate(genes_to_symptoms_df.iterrows()):\n",
    "        row = genes_to_symptoms_df.iloc[index]\n",
    "        if(index.upper() in disease_symptoms):\n",
    "            indices_to_remove.append(index)\n",
    "    genes_to_symptoms_df = genes_to_symptoms_df.drop(genes_to_symptoms_df.index[indices_to_remove])"
   ]
  },
  {
   "cell_type": "code",
   "execution_count": null,
   "metadata": {},
   "outputs": [],
   "source": [
    "genes_to_symptoms_df = determined_genes_to_symptoms(disease_top_genes_list, disease_symptoms, symptom_dict)"
   ]
  },
  {
   "cell_type": "code",
   "execution_count": null,
   "metadata": {},
   "outputs": [],
   "source": [
    "%store genes_to_symptoms_df"
   ]
  },
  {
   "cell_type": "code",
   "execution_count": null,
   "metadata": {},
   "outputs": [],
   "source": [
    "%store -r genes_to_symptoms_df"
   ]
  },
  {
   "cell_type": "code",
   "execution_count": null,
   "metadata": {},
   "outputs": [],
   "source": [
    "relevant_genes_to_symptoms_df = filter_genes_to_symptoms(genes_to_symptoms_df)"
   ]
  },
  {
   "cell_type": "markdown",
   "metadata": {},
   "source": [
    "## 5. Get Genes Edges Out Count"
   ]
  },
  {
   "cell_type": "markdown",
   "metadata": {},
   "source": [
    "## 6. Assemble Genes related to both Disease and Disease Symptoms"
   ]
  },
  {
   "cell_type": "code",
   "execution_count": null,
   "metadata": {},
   "outputs": [],
   "source": []
  }
 ],
 "metadata": {
  "kernelspec": {
   "display_name": "Python 3",
   "language": "python",
   "name": "python3"
  },
  "language_info": {
   "codemirror_mode": {
    "name": "ipython",
    "version": 3
   },
   "file_extension": ".py",
   "mimetype": "text/x-python",
   "name": "python",
   "nbconvert_exporter": "python",
   "pygments_lexer": "ipython3",
   "version": "3.8.4"
  }
 },
 "nbformat": 4,
 "nbformat_minor": 4
}
