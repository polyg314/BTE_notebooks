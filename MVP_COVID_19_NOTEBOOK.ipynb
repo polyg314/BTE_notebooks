{
 "cells": [
  {
   "cell_type": "markdown",
   "metadata": {},
   "source": [
    "# TABLE OF CONTENTS\n",
    "\n",
    "## 1 USE CASE: COVID-19 \n",
    "###  &emsp; 1.1 What genes are connected to COVID-19?\n",
    "####  &emsp; &emsp; 1.1.1 COVID-19 -> Genes (determine directly related) \n",
    "####  &emsp; &emsp; 1.1.2 COVID-19 -> All intermediate node types -> Genes\n",
    "###  &emsp; 1.2 What are the symptoms that are related to COVID-19?\n",
    "####  &emsp; &emsp; 1.2.1 COVID-19 -> Symptoms (PhenotypicFeature, BiologicalProcess)\n",
    "###  &emsp; 1.3 Which of the genes related to COVID-19 are related to symptoms of COVID-19? \n",
    "####  &emsp; &emsp; 1.3.1 Genes (from 1.1) -> Symptoms (From 1.2.1)\n",
    "####  &emsp; &emsp; 1.3.2 Genes (from 1.1) -> [Drugs, SequenceVariant, Pathways, MolecularActivity] -> Symptoms (From 1.2.1)\n",
    "###  &emsp; 1.4 What proteins/genes are in pathways of known COVID-19 related genes? Which of these can be related to symptoms? \n",
    "####  &emsp; &emsp; 1.4.1 Genes (from 1.1.1) -> Pathways -> Genes\n",
    "####  &emsp; &emsp; 1.4.2 COVID-19 Symptoms -> Pathways -> Genes\n",
    "###  &emsp; 1.5 In what way can co-occurrence data from COHD EHR data (conditions, drugs, and procedures) be used to further identify or establish genes associated with COVID-19? \n",
    "####  &emsp; &emsp; 1.5.1 Co-occurence of related conditions (parent diseases, siblings) and drugs\n",
    "####  &emsp; &emsp; 1.5.2 Co-occurrence of related drugs and related symptoms "
   ]
  },
  {
   "cell_type": "code",
   "execution_count": 1,
   "metadata": {},
   "outputs": [],
   "source": [
    "###### CODE SETUP \n",
    "\n",
    "## First get all the functions set up\n",
    "import pandas as pd\n",
    "# import itables.interactive\n",
    "# from itables import show\n",
    "# import itables.options as opt\n",
    "# opt.maxBytes = 10000000\n",
    "\n",
    "\n",
    "## Load BTE\n",
    "from biothings_explorer.user_query_dispatcher import FindConnection\n",
    "from biothings_explorer.hint import Hint\n",
    "ht = Hint()\n",
    "\n",
    "## Functions that will be used\n",
    "# Check for every intermediate node type in Predict funciton\n",
    "def predict_many(input_object, intermediate_node_list, output_type):\n",
    "    df_list = []\n",
    "    for inter in intermediate_node_list:\n",
    "        try: \n",
    "            print(\"Intermediate Node type running:\")\n",
    "            print(inter)\n",
    "            fc = FindConnection(input_obj=input_object, output_obj=output_type, intermediate_nodes=[inter])\n",
    "            fc.connect(verbose=False)\n",
    "            df = fc.display_table_view()\n",
    "            rows = df.shape[0]\n",
    "            if(rows > 0):\n",
    "                df_list.append(df)\n",
    "        except:\n",
    "            print(\"FAILED\")\n",
    "    if(len(df_list) > 0):\n",
    "        return pd.concat(df_list)\n",
    "    else:\n",
    "        return None\n",
    "    \n",
    "# all intermediate node types\n",
    "\n",
    "node_type_list = (['Gene', 'SequenceVariant', 'ChemicalSubstance', 'Disease', \n",
    "                   'MolecularActivity', 'BiologicalProcess', 'CellularComponent', \n",
    "                   'Pathway', 'AnatomicalEntity', 'PhenotypicFeature'])"
   ]
  },
  {
   "cell_type": "markdown",
   "metadata": {},
   "source": [
    "## 1.1 What genes are connected to COVID-19?"
   ]
  },
  {
   "cell_type": "markdown",
   "metadata": {},
   "source": [
    "### 1.1.1 COVID-19 -> Genes (determine directly related) "
   ]
  },
  {
   "cell_type": "code",
   "execution_count": 2,
   "metadata": {},
   "outputs": [
    {
     "data": {
      "text/plain": [
       "{'MONDO': 'MONDO:0100096',\n",
       " 'DOID': 'DOID:0080600',\n",
       " 'name': 'COVID-19',\n",
       " 'primary': {'identifier': 'MONDO',\n",
       "  'cls': 'Disease',\n",
       "  'value': 'MONDO:0100096'},\n",
       " 'display': 'MONDO(MONDO:0100096) DOID(DOID:0080600) name(COVID-19)',\n",
       " 'type': 'Disease'}"
      ]
     },
     "execution_count": 2,
     "metadata": {},
     "output_type": "execute_result"
    }
   ],
   "source": [
    "## get COVID-19\n",
    "covid19 = ht.query(\"COVID-19\")['Disease'][0]\n",
    "covid19"
   ]
  },
  {
   "cell_type": "code",
   "execution_count": 3,
   "metadata": {},
   "outputs": [
    {
     "data": {
      "text/html": [
       "<div>\n",
       "<style scoped>\n",
       "    .dataframe tbody tr th:only-of-type {\n",
       "        vertical-align: middle;\n",
       "    }\n",
       "\n",
       "    .dataframe tbody tr th {\n",
       "        vertical-align: top;\n",
       "    }\n",
       "\n",
       "    .dataframe thead th {\n",
       "        text-align: right;\n",
       "    }\n",
       "</style>\n",
       "<table border=\"1\" class=\"dataframe\">\n",
       "  <thead>\n",
       "    <tr style=\"text-align: right;\">\n",
       "      <th></th>\n",
       "      <th>input</th>\n",
       "      <th>input_type</th>\n",
       "      <th>pred1</th>\n",
       "      <th>pred1_source</th>\n",
       "      <th>pred1_api</th>\n",
       "      <th>pred1_pubmed</th>\n",
       "      <th>output_type</th>\n",
       "      <th>output_name</th>\n",
       "      <th>output_id</th>\n",
       "    </tr>\n",
       "  </thead>\n",
       "  <tbody>\n",
       "    <tr>\n",
       "      <th>0</th>\n",
       "      <td>COVID-19</td>\n",
       "      <td>Disease</td>\n",
       "      <td>related_to</td>\n",
       "      <td>DISEASE</td>\n",
       "      <td>DISEASES API</td>\n",
       "      <td>None</td>\n",
       "      <td>Gene</td>\n",
       "      <td>EID2</td>\n",
       "      <td>NCBIGene:163126</td>\n",
       "    </tr>\n",
       "    <tr>\n",
       "      <th>1</th>\n",
       "      <td>COVID-19</td>\n",
       "      <td>Disease</td>\n",
       "      <td>related_to</td>\n",
       "      <td>DISEASE</td>\n",
       "      <td>DISEASES API</td>\n",
       "      <td>None</td>\n",
       "      <td>Gene</td>\n",
       "      <td>ACE2</td>\n",
       "      <td>NCBIGene:59272</td>\n",
       "    </tr>\n",
       "    <tr>\n",
       "      <th>2</th>\n",
       "      <td>COVID-19</td>\n",
       "      <td>Disease</td>\n",
       "      <td>related_to</td>\n",
       "      <td>scigraph</td>\n",
       "      <td>Automat CORD19 Scigraph API</td>\n",
       "      <td>None</td>\n",
       "      <td>Gene</td>\n",
       "      <td>ACE2</td>\n",
       "      <td>NCBIGene:59272</td>\n",
       "    </tr>\n",
       "    <tr>\n",
       "      <th>3</th>\n",
       "      <td>COVID-19</td>\n",
       "      <td>Disease</td>\n",
       "      <td>related_to</td>\n",
       "      <td>scigraph</td>\n",
       "      <td>Automat CORD19 Scigraph API</td>\n",
       "      <td>None</td>\n",
       "      <td>Gene</td>\n",
       "      <td>POR</td>\n",
       "      <td>NCBIGene:5447</td>\n",
       "    </tr>\n",
       "    <tr>\n",
       "      <th>4</th>\n",
       "      <td>COVID-19</td>\n",
       "      <td>Disease</td>\n",
       "      <td>related_to</td>\n",
       "      <td>scigraph</td>\n",
       "      <td>Automat CORD19 Scigraph API</td>\n",
       "      <td>None</td>\n",
       "      <td>Gene</td>\n",
       "      <td>CRP</td>\n",
       "      <td>NCBIGene:1401</td>\n",
       "    </tr>\n",
       "    <tr>\n",
       "      <th>5</th>\n",
       "      <td>COVID-19</td>\n",
       "      <td>Disease</td>\n",
       "      <td>related_to</td>\n",
       "      <td>scigraph</td>\n",
       "      <td>Automat CORD19 Scigraph API</td>\n",
       "      <td>None</td>\n",
       "      <td>Gene</td>\n",
       "      <td>TH</td>\n",
       "      <td>NCBIGene:7054</td>\n",
       "    </tr>\n",
       "    <tr>\n",
       "      <th>6</th>\n",
       "      <td>COVID-19</td>\n",
       "      <td>Disease</td>\n",
       "      <td>related_to</td>\n",
       "      <td>scigraph</td>\n",
       "      <td>Automat CORD19 Scigraph API</td>\n",
       "      <td>None</td>\n",
       "      <td>Gene</td>\n",
       "      <td>SON</td>\n",
       "      <td>NCBIGene:6651</td>\n",
       "    </tr>\n",
       "    <tr>\n",
       "      <th>7</th>\n",
       "      <td>COVID-19</td>\n",
       "      <td>Disease</td>\n",
       "      <td>related_to</td>\n",
       "      <td>scigraph</td>\n",
       "      <td>Automat CORD19 Scigraph API</td>\n",
       "      <td>None</td>\n",
       "      <td>Gene</td>\n",
       "      <td>MARS1</td>\n",
       "      <td>NCBIGene:4141</td>\n",
       "    </tr>\n",
       "    <tr>\n",
       "      <th>8</th>\n",
       "      <td>COVID-19</td>\n",
       "      <td>Disease</td>\n",
       "      <td>related_to</td>\n",
       "      <td>scigraph</td>\n",
       "      <td>Automat CORD19 Scigraph API</td>\n",
       "      <td>None</td>\n",
       "      <td>Gene</td>\n",
       "      <td>TMPRSS2</td>\n",
       "      <td>NCBIGene:7113</td>\n",
       "    </tr>\n",
       "  </tbody>\n",
       "</table>\n",
       "</div>"
      ],
      "text/plain": [
       "      input input_type       pred1 pred1_source                    pred1_api  \\\n",
       "0  COVID-19    Disease  related_to      DISEASE                 DISEASES API   \n",
       "1  COVID-19    Disease  related_to      DISEASE                 DISEASES API   \n",
       "2  COVID-19    Disease  related_to     scigraph  Automat CORD19 Scigraph API   \n",
       "3  COVID-19    Disease  related_to     scigraph  Automat CORD19 Scigraph API   \n",
       "4  COVID-19    Disease  related_to     scigraph  Automat CORD19 Scigraph API   \n",
       "5  COVID-19    Disease  related_to     scigraph  Automat CORD19 Scigraph API   \n",
       "6  COVID-19    Disease  related_to     scigraph  Automat CORD19 Scigraph API   \n",
       "7  COVID-19    Disease  related_to     scigraph  Automat CORD19 Scigraph API   \n",
       "8  COVID-19    Disease  related_to     scigraph  Automat CORD19 Scigraph API   \n",
       "\n",
       "  pred1_pubmed output_type output_name        output_id  \n",
       "0         None        Gene        EID2  NCBIGene:163126  \n",
       "1         None        Gene        ACE2   NCBIGene:59272  \n",
       "2         None        Gene        ACE2   NCBIGene:59272  \n",
       "3         None        Gene         POR    NCBIGene:5447  \n",
       "4         None        Gene         CRP    NCBIGene:1401  \n",
       "5         None        Gene          TH    NCBIGene:7054  \n",
       "6         None        Gene         SON    NCBIGene:6651  \n",
       "7         None        Gene       MARS1    NCBIGene:4141  \n",
       "8         None        Gene     TMPRSS2    NCBIGene:7113  "
      ]
     },
     "execution_count": 3,
     "metadata": {},
     "output_type": "execute_result"
    }
   ],
   "source": [
    "fc = FindConnection(input_obj=covid19, output_obj='Gene', intermediate_nodes=None)\n",
    "fc.connect(verbose=False)\n",
    "covid19_to_genes = fc.display_table_view()\n",
    "covid19_to_genes"
   ]
  },
  {
   "cell_type": "markdown",
   "metadata": {},
   "source": [
    "### 1.1.2 COVID-19 -> All intermediate node types -> Genes"
   ]
  },
  {
   "cell_type": "code",
   "execution_count": 4,
   "metadata": {},
   "outputs": [
    {
     "name": "stdout",
     "output_type": "stream",
     "text": [
      "Intermediate Node type running:\n",
      "Gene\n",
      "Intermediate Node type running:\n",
      "SequenceVariant\n",
      "Intermediate Node type running:\n",
      "ChemicalSubstance\n",
      "API 4.1 pharos failed\n",
      "Intermediate Node type running:\n",
      "Disease\n",
      "Intermediate Node type running:\n",
      "MolecularActivity\n",
      "Intermediate Node type running:\n",
      "BiologicalProcess\n",
      "Intermediate Node type running:\n",
      "CellularComponent\n",
      "Intermediate Node type running:\n",
      "Pathway\n",
      "Intermediate Node type running:\n",
      "AnatomicalEntity\n",
      "Intermediate Node type running:\n",
      "PhenotypicFeature\n"
     ]
    }
   ],
   "source": [
    "covid_allNodes_Genes = predict_many(covid19,node_type_list,'Gene')"
   ]
  },
  {
   "cell_type": "code",
   "execution_count": 5,
   "metadata": {},
   "outputs": [
    {
     "data": {
      "text/plain": [
       "13562"
      ]
     },
     "execution_count": 5,
     "metadata": {},
     "output_type": "execute_result"
    }
   ],
   "source": [
    "## Genes identified = HUGE NUMBER (13562)\n",
    "len(list(covid_allNodes_Genes[\"output_name\"]))"
   ]
  },
  {
   "cell_type": "code",
   "execution_count": 7,
   "metadata": {},
   "outputs": [
    {
     "name": "stdout",
     "output_type": "stream",
     "text": [
      "TNF: 43\n",
      "CYP3A4: 33\n",
      "CAT: 32\n",
      "INS: 26\n",
      "C0014442: 26\n",
      "CYP2D6: 25\n",
      "IL6: 23\n",
      "C0017337: 23\n",
      "ABCB1: 22\n",
      "AKT1: 21\n",
      "ANG: 20\n",
      "TP53: 18\n",
      "HIF1A: 17\n",
      "SQSTM1: 17\n",
      "FOS: 17\n",
      "CYP1A2: 17\n",
      "C0010762: 17\n",
      "TLR9: 16\n",
      "C0164786: 16\n",
      "AR: 16\n",
      "ACE2: 16\n",
      "ACE: 16\n",
      "SOD1: 15\n",
      "CD4: 15\n",
      "C1705556: 15\n",
      "VEGFA: 15\n",
      "EGFR: 15\n",
      "ALB: 15\n",
      "IL1B: 15\n",
      "CYP2C9: 15\n",
      "PPIG: 15\n",
      "RELA: 15\n",
      "APP: 15\n",
      "C0010531: 15\n",
      "C0030956: 15\n",
      "SOD2: 14\n",
      "BAX: 14\n",
      "CASP3: 14\n",
      "CDKN1A: 14\n",
      "MTOR: 14\n",
      "C1705526: 14\n",
      "EPO: 14\n",
      "MPO: 14\n",
      "IFNA1: 14\n",
      "TH: 14\n",
      "C0033634: 14\n",
      "TLR7: 13\n",
      "MAPK1: 13\n",
      "LEP: 13\n",
      "CCL2: 13\n"
     ]
    }
   ],
   "source": [
    "i = list(covid_allNodes_Genes[\"output_name\"])\n",
    "d = {x:i.count(x) for x in i}\n",
    "sorted_genes_covid_2_allNodes_2_genes = {k: v for k, v in sorted(d.items(), key=lambda item: item[1])}\n",
    "for x in list(reversed(list(sorted_genes_covid_2_allNodes_2_genes)))[0:50]:\n",
    "    print(str(x) + \": \" + str(sorted_genes_covid_2_allNodes_2_genes[x]))"
   ]
  },
  {
   "cell_type": "code",
   "execution_count": 8,
   "metadata": {},
   "outputs": [],
   "source": [
    "## store top 50 genes\n",
    "top_50_related_genes_covid_2_allNodes_2_genes = list(reversed(list(sorted_genes_covid_2_allNodes_2_genes )))[0:50]"
   ]
  },
  {
   "cell_type": "markdown",
   "metadata": {},
   "source": [
    "## 1.2 What are the symptoms that are related to COVID-19?"
   ]
  },
  {
   "cell_type": "markdown",
   "metadata": {},
   "source": [
    "### COVID-19 -> PhenotypicFeature"
   ]
  },
  {
   "cell_type": "code",
   "execution_count": 9,
   "metadata": {},
   "outputs": [
    {
     "data": {
      "text/html": [
       "<div>\n",
       "<style scoped>\n",
       "    .dataframe tbody tr th:only-of-type {\n",
       "        vertical-align: middle;\n",
       "    }\n",
       "\n",
       "    .dataframe tbody tr th {\n",
       "        vertical-align: top;\n",
       "    }\n",
       "\n",
       "    .dataframe thead th {\n",
       "        text-align: right;\n",
       "    }\n",
       "</style>\n",
       "<table border=\"1\" class=\"dataframe\">\n",
       "  <thead>\n",
       "    <tr style=\"text-align: right;\">\n",
       "      <th></th>\n",
       "    </tr>\n",
       "  </thead>\n",
       "  <tbody>\n",
       "  </tbody>\n",
       "</table>\n",
       "</div>"
      ],
      "text/plain": [
       "Empty DataFrame\n",
       "Columns: []\n",
       "Index: []"
      ]
     },
     "execution_count": 9,
     "metadata": {},
     "output_type": "execute_result"
    }
   ],
   "source": [
    "fc = FindConnection(input_obj=covid19, output_obj='PhenotypicFeature', intermediate_nodes=None)\n",
    "fc.connect(verbose=False)\n",
    "covid19_2_phentoypic_feature = fc.display_table_view()\n",
    "covid19_2_phentoypic_feature\n",
    "\n",
    "## no results "
   ]
  },
  {
   "cell_type": "code",
   "execution_count": 10,
   "metadata": {},
   "outputs": [
    {
     "data": {
      "text/plain": [
       "{'MONDO': 'MONDO:0005719',\n",
       " 'name': 'Coronavinae infectious disease',\n",
       " 'MESH': 'D018352',\n",
       " 'primary': {'identifier': 'MONDO',\n",
       "  'cls': 'Disease',\n",
       "  'value': 'MONDO:0005719'},\n",
       " 'display': 'MONDO(MONDO:0005719) MESH(D018352) name(Coronavinae infectious disease)',\n",
       " 'type': 'Disease'}"
      ]
     },
     "execution_count": 10,
     "metadata": {},
     "output_type": "execute_result"
    }
   ],
   "source": [
    "## try more broad \"corona\" look at coronaviruses in general \n",
    "corona = ht.query(\"CORONAVINAE INFECTIOUS DISEASE\")['Disease'][0]\n",
    "corona"
   ]
  },
  {
   "cell_type": "code",
   "execution_count": 11,
   "metadata": {},
   "outputs": [
    {
     "data": {
      "text/html": [
       "<div>\n",
       "<style scoped>\n",
       "    .dataframe tbody tr th:only-of-type {\n",
       "        vertical-align: middle;\n",
       "    }\n",
       "\n",
       "    .dataframe tbody tr th {\n",
       "        vertical-align: top;\n",
       "    }\n",
       "\n",
       "    .dataframe thead th {\n",
       "        text-align: right;\n",
       "    }\n",
       "</style>\n",
       "<table border=\"1\" class=\"dataframe\">\n",
       "  <thead>\n",
       "    <tr style=\"text-align: right;\">\n",
       "      <th></th>\n",
       "    </tr>\n",
       "  </thead>\n",
       "  <tbody>\n",
       "  </tbody>\n",
       "</table>\n",
       "</div>"
      ],
      "text/plain": [
       "Empty DataFrame\n",
       "Columns: []\n",
       "Index: []"
      ]
     },
     "execution_count": 11,
     "metadata": {},
     "output_type": "execute_result"
    }
   ],
   "source": [
    "fc = FindConnection(input_obj=corona, output_obj='PhenotypicFeature', intermediate_nodes=None)\n",
    "fc.connect(verbose=False)\n",
    "covid19_2_phentoypic_feature = fc.display_table_view()\n",
    "covid19_2_phentoypic_feature\n",
    "\n",
    "## no results "
   ]
  },
  {
   "cell_type": "markdown",
   "metadata": {},
   "source": [
    "### COVID-19 -> BiologicalProcess"
   ]
  },
  {
   "cell_type": "code",
   "execution_count": 12,
   "metadata": {},
   "outputs": [
    {
     "data": {
      "text/html": [
       "<div>\n",
       "<style scoped>\n",
       "    .dataframe tbody tr th:only-of-type {\n",
       "        vertical-align: middle;\n",
       "    }\n",
       "\n",
       "    .dataframe tbody tr th {\n",
       "        vertical-align: top;\n",
       "    }\n",
       "\n",
       "    .dataframe thead th {\n",
       "        text-align: right;\n",
       "    }\n",
       "</style>\n",
       "<table border=\"1\" class=\"dataframe\">\n",
       "  <thead>\n",
       "    <tr style=\"text-align: right;\">\n",
       "      <th></th>\n",
       "    </tr>\n",
       "  </thead>\n",
       "  <tbody>\n",
       "  </tbody>\n",
       "</table>\n",
       "</div>"
      ],
      "text/plain": [
       "Empty DataFrame\n",
       "Columns: []\n",
       "Index: []"
      ]
     },
     "execution_count": 12,
     "metadata": {},
     "output_type": "execute_result"
    }
   ],
   "source": [
    "fc = FindConnection(input_obj=covid19, output_obj='BiologicalProcess', intermediate_nodes=None)\n",
    "fc.connect(verbose=False)\n",
    "covid19_2_biologicalProcess = fc.display_table_view()\n",
    "covid19_2_biologicalProcess"
   ]
  },
  {
   "cell_type": "code",
   "execution_count": 13,
   "metadata": {},
   "outputs": [
    {
     "data": {
      "text/html": [
       "<div>\n",
       "<style scoped>\n",
       "    .dataframe tbody tr th:only-of-type {\n",
       "        vertical-align: middle;\n",
       "    }\n",
       "\n",
       "    .dataframe tbody tr th {\n",
       "        vertical-align: top;\n",
       "    }\n",
       "\n",
       "    .dataframe thead th {\n",
       "        text-align: right;\n",
       "    }\n",
       "</style>\n",
       "<table border=\"1\" class=\"dataframe\">\n",
       "  <thead>\n",
       "    <tr style=\"text-align: right;\">\n",
       "      <th></th>\n",
       "    </tr>\n",
       "  </thead>\n",
       "  <tbody>\n",
       "  </tbody>\n",
       "</table>\n",
       "</div>"
      ],
      "text/plain": [
       "Empty DataFrame\n",
       "Columns: []\n",
       "Index: []"
      ]
     },
     "execution_count": 13,
     "metadata": {},
     "output_type": "execute_result"
    }
   ],
   "source": [
    "# try broader corona family again \n",
    "fc = FindConnection(input_obj=corona, output_obj='BiologicalProcess', intermediate_nodes=None)\n",
    "fc.connect(verbose=False)\n",
    "covid19_2_biologicalProcess = fc.display_table_view()\n",
    "covid19_2_biologicalProcess"
   ]
  },
  {
   "cell_type": "markdown",
   "metadata": {},
   "source": [
    "### 1.3 Which of the genes related to COVID-19 are related to symptoms of COVID-19? "
   ]
  },
  {
   "cell_type": "code",
   "execution_count": 14,
   "metadata": {},
   "outputs": [
    {
     "name": "stdout",
     "output_type": "stream",
     "text": [
      "C0014442 FAILED\n",
      "C0017337 FAILED\n",
      "C0010762 FAILED\n",
      "C0164786 FAILED\n",
      "C1705556 FAILED\n",
      "C0010531 FAILED\n",
      "C0030956 FAILED\n",
      "C1705526 FAILED\n",
      "C0033634 FAILED\n"
     ]
    }
   ],
   "source": [
    "df_list = []\n",
    "for x in top_50_related_genes_covid_2_allNodes_2_genes: \n",
    "#     print(x)\n",
    "    try: \n",
    "        gene = ht.query(x)[\"Gene\"][0]\n",
    "        fc = FindConnection(input_obj=gene, output_obj='PhenotypicFeature', intermediate_nodes=None)\n",
    "        fc.connect(verbose=False)\n",
    "        df = fc.display_table_view()\n",
    "        rows = df.shape[0]\n",
    "        if(rows > 0):\n",
    "            df_list.append(df)\n",
    "    except:\n",
    "        print(str(x) + \" FAILED\")\n",
    "if(len(df_list) > 0):\n",
    "    top50gene_2_phenotypicFeature = pd.concat(df_list)\n"
   ]
  },
  {
   "cell_type": "code",
   "execution_count": 19,
   "metadata": {},
   "outputs": [
    {
     "data": {
      "text/plain": [
       "(1086, 9)"
      ]
     },
     "execution_count": 19,
     "metadata": {},
     "output_type": "execute_result"
    }
   ],
   "source": [
    "top50gene_2_phenotypicFeature.shape"
   ]
  },
  {
   "cell_type": "code",
   "execution_count": 16,
   "metadata": {},
   "outputs": [
    {
     "name": "stdout",
     "output_type": "stream",
     "text": [
      "C0014442 FAILED\n",
      "C0017337 FAILED\n",
      "C0010762 FAILED\n",
      "C0164786 FAILED\n",
      "C1705556 FAILED\n",
      "C0010531 FAILED\n",
      "C0030956 FAILED\n",
      "C1705526 FAILED\n",
      "C0033634 FAILED\n"
     ]
    }
   ],
   "source": [
    "df_list = []\n",
    "for x in top_50_related_genes_covid_2_allNodes_2_genes: \n",
    "#     print(x)\n",
    "    try: \n",
    "        gene = ht.query(x)[\"Gene\"][0]\n",
    "        fc = FindConnection(input_obj=gene, output_obj='BiologicalProcess', intermediate_nodes=None)\n",
    "        fc.connect(verbose=False)\n",
    "        df = fc.display_table_view()\n",
    "        rows = df.shape[0]\n",
    "        if(rows > 0):\n",
    "            df_list.append(df)\n",
    "    except:\n",
    "        print(str(x) + \" FAILED\")\n",
    "if(len(df_list) > 0):\n",
    "    top50gene_2_bioprocesses = pd.concat(df_list)"
   ]
  },
  {
   "cell_type": "code",
   "execution_count": 18,
   "metadata": {},
   "outputs": [
    {
     "data": {
      "text/plain": [
       "(15712, 9)"
      ]
     },
     "execution_count": 18,
     "metadata": {},
     "output_type": "execute_result"
    }
   ],
   "source": [
    "top50gene_2_bioprocesses.shape"
   ]
  }
 ],
 "metadata": {
  "kernelspec": {
   "display_name": "Python 3",
   "language": "python",
   "name": "python3"
  },
  "language_info": {
   "codemirror_mode": {
    "name": "ipython",
    "version": 3
   },
   "file_extension": ".py",
   "mimetype": "text/x-python",
   "name": "python",
   "nbconvert_exporter": "python",
   "pygments_lexer": "ipython3",
   "version": "3.8.4"
  }
 },
 "nbformat": 4,
 "nbformat_minor": 4
}
