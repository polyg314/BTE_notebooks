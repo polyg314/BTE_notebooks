{
 "cells": [
  {
   "cell_type": "markdown",
   "metadata": {},
   "source": [
    "## Imports"
   ]
  },
  {
   "cell_type": "code",
   "execution_count": 46,
   "metadata": {},
   "outputs": [],
   "source": [
    "## main functions\n",
    "import gene_symptoms_question_functions as gsf\n",
    "## importlib makes sure functions from packages get refreshed\n",
    "import importlib\n",
    "import requests\n",
    "importlib.reload(gsf)\n",
    "import pandas as pd\n",
    "import math\n",
    "from biothings_explorer.user_query_dispatcher import FindConnection\n",
    "from biothings_explorer.hint import Hint\n",
    "ht = Hint()"
   ]
  },
  {
   "cell_type": "markdown",
   "metadata": {},
   "source": [
    "## Set disease and output names"
   ]
  },
  {
   "cell_type": "code",
   "execution_count": 47,
   "metadata": {},
   "outputs": [],
   "source": [
    "disease_name = 'cystic fibrosis'\n",
    "output_csv = \"Cystic_Fibrosis_2020-08-27.csv\"\n",
    "symptom_csv = \"Cystic_Fibrosis_Symptoms_2020-08-27.csv\""
   ]
  },
  {
   "cell_type": "markdown",
   "metadata": {},
   "source": [
    "## Get disease "
   ]
  },
  {
   "cell_type": "code",
   "execution_count": 48,
   "metadata": {},
   "outputs": [
    {
     "data": {
      "text/plain": [
       "{'MONDO': 'MONDO:0009061',\n",
       " 'DOID': 'DOID:1485',\n",
       " 'UMLS': 'C0010674',\n",
       " 'name': 'cystic fibrosis',\n",
       " 'MESH': 'D003550',\n",
       " 'OMIM': '219700',\n",
       " 'ORPHANET': '586',\n",
       " 'primary': {'identifier': 'MONDO',\n",
       "  'cls': 'Disease',\n",
       "  'value': 'MONDO:0009061'},\n",
       " 'display': 'MONDO(MONDO:0009061) DOID(DOID:1485) OMIM(219700) ORPHANET(586) UMLS(C0010674) MESH(D003550) name(cystic fibrosis)',\n",
       " 'type': 'Disease'}"
      ]
     },
     "execution_count": 48,
     "metadata": {},
     "output_type": "execute_result"
    }
   ],
   "source": [
    "# disease_name = disease_name.lower()\n",
    "disease = ht.query(disease_name.lower())['Disease'][0]\n",
    "disease"
   ]
  },
  {
   "cell_type": "markdown",
   "metadata": {},
   "source": [
    "## Get disease symptoms"
   ]
  },
  {
   "cell_type": "code",
   "execution_count": 49,
   "metadata": {},
   "outputs": [
    {
     "name": "stdout",
     "output_type": "stream",
     "text": [
      "['meconium ileus', 'Meconium ileus in neonates', 'recurrent bronchopulmonary infections', 'chronic lung disease', 'Chronic lung disease', 'rectal prolapse', 'Rectum protrudes through anus', 'asthma', 'Asthma', 'Bronchial asthma', 'bronchiectasis', 'Permanent enlargement of the airways of the lungs', 'male infertility', 'Male infertility', 'hypercalciuria', 'Elevated urine calcium levels', 'Hypercalcinuria', 'elevated sweat chloride', 'Elevated sweat Cl', 'Elevated sweat Cl-', 'Elevated sweat chloride', 'failure to thrive', 'Faltering weight', 'Postnatal failure to thrive', 'Weight faltering', 'exocrine pancreatic insufficiency', 'Inability to properly digest food due to lack of pancreatic digestive enzymes', 'dehydration', 'Dehydration', 'autosomal recessive inheritance', 'Autosomal recessive', 'cor pulmonale', 'recurrent pneumonia', 'Multiple pulmonary infections', 'Pneumonia, recurrent', 'Pneumonia, recurrent episodes', 'Pulmonary infection', 'Pulmonary infections', 'Recurrent pneumonia', 'Recurrent pulmonary infections', 'pulmonary infections, recurrent', 'biliary cirrhosis']\n"
     ]
    },
    {
     "data": {
      "text/plain": [
       "['HP:0004401',\n",
       " 'HP:0006538',\n",
       " 'HP:0006528',\n",
       " 'HP:0002035',\n",
       " 'HP:0002099',\n",
       " 'HP:0002110',\n",
       " 'HP:0003251',\n",
       " 'HP:0002150',\n",
       " 'HP:0012236',\n",
       " 'HP:0001508',\n",
       " 'HP:0001738',\n",
       " 'HP:0001944',\n",
       " 'HP:0000007',\n",
       " 'HP:0001648',\n",
       " 'HP:0006532',\n",
       " 'HP:0002613']"
      ]
     },
     "execution_count": 49,
     "metadata": {},
     "output_type": "execute_result"
    }
   ],
   "source": [
    "# get disease symptoms\n",
    "disease_symptoms_list = gsf.get_disease_symptoms(disease_name)\n",
    "disease_symptoms = disease_symptoms_list[0]\n",
    "disease_symptom_hpids = disease_symptoms_list[1]\n",
    "disease_symptom_dict = disease_symptoms_list[2]\n",
    "disease_symptoms\n",
    "disease_symptom_hpids"
   ]
  },
  {
   "cell_type": "markdown",
   "metadata": {},
   "source": [
    "## Get Symptom Prevalence - based off edges out counts"
   ]
  },
  {
   "cell_type": "code",
   "execution_count": null,
   "metadata": {},
   "outputs": [
    {
     "name": "stdout",
     "output_type": "stream",
     "text": [
      "HP:0004401\n",
      "API 3.2 semmed_phenotype failed\n",
      "API 3.3 semmed_phenotype failed\n",
      "API 3.1 semmed_phenotype failed\n",
      "API 3.4 semmed_phenotype failed\n",
      "API 3.6 semmed_phenotype failed\n",
      "API 3.9 semmed_phenotype failed\n",
      "API 3.8 semmed_phenotype failed\n",
      "API 3.7 semmed_phenotype failed\n",
      "API 3.5 semmed_phenotype failed\n",
      "API 3.10 semmed_phenotype failed\n",
      "API 3.11 semmed_phenotype failed\n",
      "API 3.12 semmed_phenotype failed\n",
      "API 3.13 semmed_phenotype failed\n",
      "gene\n",
      "(9, 9)\n",
      "OKKKk\n",
      "9\n",
      "API 3.11 semmed_phenotype failed\n",
      "API 3.15 semmed_phenotype failed\n",
      "API 3.17 semmed_phenotype failed\n",
      "API 3.4 semmed_phenotype failed\n",
      "API 3.2 semmed_phenotype failed\n",
      "API 3.5 semmed_phenotype failed\n",
      "API 3.3 semmed_phenotype failed\n",
      "API 3.1 semmed_phenotype failed\n",
      "API 3.9 semmed_phenotype failed\n",
      "API 3.7 semmed_phenotype failed\n",
      "API 3.8 semmed_phenotype failed\n",
      "API 3.14 semmed_phenotype failed\n",
      "API 3.10 semmed_phenotype failed\n",
      "API 3.13 semmed_phenotype failed\n",
      "API 3.12 semmed_phenotype failed\n",
      "API 3.6 semmed_phenotype failed\n",
      "API 3.18 semmed_phenotype failed\n",
      "API 3.16 semmed_phenotype failed\n",
      "API 3.19 semmed_phenotype failed\n",
      "(7, 9)\n",
      "ok edge phen to dis\n",
      "16\n",
      "edges out\n",
      "16\n",
      "HP:0006538\n",
      "API 3.7 semmed_phenotype failed\n",
      "API 3.1 semmed_phenotype failed\n",
      "API 3.2 semmed_phenotype failed\n",
      "API 3.3 semmed_phenotype failed\n",
      "API 3.4 semmed_phenotype failed\n",
      "API 3.6 semmed_phenotype failed\n",
      "API 3.13 semmed_phenotype failed\n",
      "API 3.9 semmed_phenotype failed\n",
      "API 3.5 semmed_phenotype failed\n",
      "API 3.10 semmed_phenotype failed\n",
      "API 3.8 semmed_phenotype failed\n",
      "API 3.12 semmed_phenotype failed\n",
      "API 3.11 semmed_phenotype failed\n",
      "gene\n",
      "(15, 9)\n",
      "OKKKk\n",
      "15\n",
      "API 3.3 semmed_phenotype failed\n",
      "API 3.2 semmed_phenotype failed\n",
      "API 3.6 semmed_phenotype failed\n",
      "API 3.12 semmed_phenotype failed\n",
      "API 3.8 semmed_phenotype failed\n",
      "API 3.10 semmed_phenotype failed\n",
      "API 3.14 semmed_phenotype failed\n",
      "API 3.5 semmed_phenotype failed\n",
      "API 3.4 semmed_phenotype failed\n",
      "API 3.9 semmed_phenotype failed\n",
      "API 3.13 semmed_phenotype failed\n",
      "API 3.15 semmed_phenotype failed\n",
      "API 3.11 semmed_phenotype failed\n",
      "API 3.7 semmed_phenotype failed\n",
      "API 3.1 semmed_phenotype failed\n",
      "API 3.19 semmed_phenotype failed\n",
      "API 3.16 semmed_phenotype failed\n",
      "API 3.18 semmed_phenotype failed\n",
      "API 3.17 semmed_phenotype failed\n",
      "(12, 9)\n",
      "ok edge phen to dis\n",
      "27\n",
      "edges out\n",
      "27\n",
      "HP:0006528\n",
      "API 3.1 semmed_phenotype failed\n",
      "API 3.7 semmed_phenotype failed\n",
      "API 3.3 semmed_phenotype failed\n",
      "API 3.5 semmed_phenotype failed\n",
      "API 3.2 semmed_phenotype failed\n",
      "API 3.6 semmed_phenotype failed\n",
      "API 3.10 semmed_phenotype failed\n",
      "API 3.4 semmed_phenotype failed\n",
      "API 3.13 semmed_phenotype failed\n",
      "API 3.9 semmed_phenotype failed\n",
      "API 3.8 semmed_phenotype failed\n",
      "API 3.12 semmed_phenotype failed\n",
      "API 3.11 semmed_phenotype failed\n",
      "gene\n",
      "(25, 9)\n",
      "OKKKk\n",
      "25\n",
      "API 3.1 semmed_phenotype failed\n",
      "API 3.2 semmed_phenotype failed\n",
      "API 3.6 semmed_phenotype failed\n",
      "API 3.7 semmed_phenotype failed\n",
      "API 3.15 semmed_phenotype failed\n",
      "API 3.3 semmed_phenotype failed\n",
      "API 3.4 semmed_phenotype failed\n",
      "API 3.5 semmed_phenotype failed\n",
      "API 3.10 semmed_phenotype failed\n",
      "API 3.9 semmed_phenotype failed\n",
      "API 3.8 semmed_phenotype failed\n",
      "API 3.12 semmed_phenotype failed\n",
      "API 3.13 semmed_phenotype failed\n",
      "API 3.14 semmed_phenotype failed\n",
      "API 3.11 semmed_phenotype failed\n",
      "API 3.16 semmed_phenotype failed\n",
      "API 3.18 semmed_phenotype failed\n",
      "API 3.17 semmed_phenotype failed\n",
      "API 3.19 semmed_phenotype failed\n",
      "(29, 9)\n",
      "ok edge phen to dis\n",
      "54\n"
     ]
    }
   ],
   "source": [
    "disease_symptom_dict = gsf.get_symtpom_prevalence(disease_symptom_dict, disease_name) \n",
    "disease_symptoms_df = pd.DataFrame.from_dict(disease_symptom_dict, orient='index').sort_values(by=['edges_out_count'])\n",
    "disease_symptoms_df = pd.concat([disease_symptoms_df[disease_symptoms_df[\"frequency\"] == \"Very frequent\"],\n",
    "               disease_symptoms_df[disease_symptoms_df[\"frequency\"] == \"Frequent\"],\n",
    "               disease_symptoms_df[disease_symptoms_df[\"frequency\"] == \"Occasional\"],\n",
    "               disease_symptoms_df[disease_symptoms_df[\"frequency\"] == \"Rare\"],\n",
    "               disease_symptoms_df[disease_symptoms_df[\"frequency\"] == \"Unknown\"]\n",
    "              ])\n"
   ]
  },
  {
   "cell_type": "markdown",
   "metadata": {},
   "source": [
    "## Calculate Individual Symptom Scores"
   ]
  },
  {
   "cell_type": "code",
   "execution_count": null,
   "metadata": {},
   "outputs": [],
   "source": [
    "individual_symptom_scores = [];\n",
    "for index,x in disease_symptoms_df.iterrows():\n",
    "    if(x[\"frequency\"] == \"Very frequent\"):\n",
    "        score = 20 / math.sqrt(int(x[\"edges_out_count\"]))\n",
    "    elif(x[\"frequency\"] == \"Frequent\"):\n",
    "        score = 15 / math.sqrt(int(x[\"edges_out_count\"]))\n",
    "    elif(x[\"frequency\"] == \"Occasional\"):\n",
    "        score = 10 / math.sqrt(int(x[\"edges_out_count\"]))\n",
    "    elif(x[\"frequency\"] == \"Rare\"):\n",
    "        score = 5 / math.sqrt(int(x[\"edges_out_count\"]))\n",
    "    elif(x[\"frequency\"] == \"Unknown\"):\n",
    "        score = 5 / math.sqrt(int(x[\"edges_out_count\"]))\n",
    "    individual_symptom_scores.append(score)\n",
    "\n",
    "# print(len(individual_symptom_scores))\n",
    "disease_symptoms_df[\"ISS\"] = individual_symptom_scores"
   ]
  },
  {
   "cell_type": "markdown",
   "metadata": {},
   "source": [
    "## Symptoms Table"
   ]
  },
  {
   "cell_type": "code",
   "execution_count": null,
   "metadata": {},
   "outputs": [],
   "source": [
    "disease_symptoms_df"
   ]
  },
  {
   "cell_type": "code",
   "execution_count": null,
   "metadata": {},
   "outputs": [],
   "source": [
    "disease_symptoms_df.to_csv(symptom_csv, index = False)"
   ]
  },
  {
   "cell_type": "markdown",
   "metadata": {},
   "source": [
    "## Get Disease -> Gene (no intermediates) "
   ]
  },
  {
   "cell_type": "code",
   "execution_count": null,
   "metadata": {},
   "outputs": [],
   "source": [
    "disease_disease_to_genes_dict = gsf.get_disease_to_gene_results(disease)\n",
    "disease_disease_to_genes_dict"
   ]
  },
  {
   "cell_type": "markdown",
   "metadata": {},
   "source": [
    "## Get Disease -> intermediate_node (any except those matching symptoms) -> Gene"
   ]
  },
  {
   "cell_type": "code",
   "execution_count": null,
   "metadata": {},
   "outputs": [],
   "source": [
    "# get results using intermediates \n",
    "node_type_list = (['Gene', 'SequenceVariant', 'ChemicalSubstance', 'Disease', \n",
    "                'MolecularActivity', 'BiologicalProcess', 'CellularComponent', \n",
    "                'Pathway', 'AnatomicalEntity', 'PhenotypicFeature'])"
   ]
  },
  {
   "cell_type": "code",
   "execution_count": null,
   "metadata": {},
   "outputs": [],
   "source": [
    "disease_disease_all_nodes_genes = gsf.predict_many(disease, node_type_list, 'Gene')\n",
    "\n",
    "# Save an object to a file\n",
    "%store disease_disease_all_nodes_genes\n"
   ]
  },
  {
   "cell_type": "code",
   "execution_count": null,
   "metadata": {},
   "outputs": [],
   "source": [
    "# Restore the object\n",
    "%store -r disease_disease_all_nodes_genes\n",
    "disease_disease_all_nodes_genes"
   ]
  },
  {
   "cell_type": "code",
   "execution_count": null,
   "metadata": {},
   "outputs": [],
   "source": [
    "## Remove UMLS \"Genes\"  (not gene specific) \n",
    "disease_disease_all_nodes_genes = disease_disease_all_nodes_genes[~disease_disease_all_nodes_genes['output_id'].str.contains('UMLS')]"
   ]
  },
  {
   "cell_type": "code",
   "execution_count": null,
   "metadata": {},
   "outputs": [],
   "source": [
    "max_2_step_genes = 100\n",
    "disease_disease_to_node_to_genes_dict = gsf.get_disease_to_node_to_gene_results(disease_disease_all_nodes_genes, max_2_step_genes, disease_symptoms, disease_symptom_hpids)\n",
    "%store disease_disease_to_node_to_genes_dict"
   ]
  },
  {
   "cell_type": "markdown",
   "metadata": {},
   "source": [
    "## Combine genes from one and two step processes then get rid of any duplicates"
   ]
  },
  {
   "cell_type": "code",
   "execution_count": null,
   "metadata": {},
   "outputs": [],
   "source": [
    "%store -r disease_disease_to_node_to_genes_dict\n",
    "disease_top_genes_list = disease_disease_to_genes_dict[\"disease_to_genes_list\"] + disease_disease_to_node_to_genes_dict[\"top_related_genes_to_disease\"]\n",
    "disease_top_genes_list = list(dict.fromkeys(disease_top_genes_list))\n",
    "# top_genes_list"
   ]
  },
  {
   "cell_type": "markdown",
   "metadata": {},
   "source": [
    "## Get Genes -> Symtoms, filtered by those related to Disease"
   ]
  },
  {
   "cell_type": "code",
   "execution_count": null,
   "metadata": {},
   "outputs": [],
   "source": [
    "disease_relevant_genes_to_symptoms_df = gsf.determined_genes_to_symptoms(disease_top_genes_list, disease_symptoms)\n",
    "# relevant_genes_to_symptoms_df"
   ]
  },
  {
   "cell_type": "code",
   "execution_count": null,
   "metadata": {},
   "outputs": [],
   "source": [
    "%store disease_relevant_genes_to_symptoms_df"
   ]
  },
  {
   "cell_type": "code",
   "execution_count": null,
   "metadata": {},
   "outputs": [],
   "source": [
    "%store -r disease_relevant_genes_to_symptoms_df\n",
    "disease_relevant_genes_list = list(dict.fromkeys(list(disease_relevant_genes_to_symptoms_df[\"input\"])))\n",
    "# relevant_genes_list"
   ]
  },
  {
   "cell_type": "code",
   "execution_count": null,
   "metadata": {},
   "outputs": [],
   "source": [
    "disease_gene_to_symptom_pub_counts = gsf.get_gene_to_symptom_publication_counts(disease_relevant_genes_to_symptoms_df)\n",
    "# gene_to_symptom_pub_counts"
   ]
  },
  {
   "cell_type": "code",
   "execution_count": null,
   "metadata": {},
   "outputs": [],
   "source": [
    "disease_causes_dict = gsf.create_causes_dict(disease_relevant_genes_to_symptoms_df)\n",
    "# causes_dict"
   ]
  },
  {
   "cell_type": "markdown",
   "metadata": {},
   "source": [
    "## Get edges out from each gene\n",
    "For use in normalizing in relevance score"
   ]
  },
  {
   "cell_type": "code",
   "execution_count": null,
   "metadata": {},
   "outputs": [],
   "source": [
    "disease_connection_dict =  gsf.get_connection_normalizing_count(disease_relevant_genes_list,node_type_list)\n",
    "# connection_dict"
   ]
  },
  {
   "cell_type": "code",
   "execution_count": null,
   "metadata": {
    "scrolled": true
   },
   "outputs": [],
   "source": [
    "%store disease_connection_dict"
   ]
  },
  {
   "cell_type": "code",
   "execution_count": null,
   "metadata": {},
   "outputs": [],
   "source": [
    "%store -r disease_connection_dict"
   ]
  },
  {
   "cell_type": "markdown",
   "metadata": {},
   "source": [
    "## Assemble final results"
   ]
  },
  {
   "cell_type": "code",
   "execution_count": null,
   "metadata": {},
   "outputs": [],
   "source": [
    "disease_df = gsf.assemble_final_data_frame(disease_relevant_genes_to_symptoms_df, \n",
    "                                      disease_connection_dict,\n",
    "                                      disease_disease_to_genes_dict['sorted_disease_to_genes'], \n",
    "                                      disease_disease_to_node_to_genes_dict['sorted_disease_to_all_nodes_to_genes'], \n",
    "                                      disease_disease_to_node_to_genes_dict['top_two_step_genes_pub_counts'], \n",
    "                                      disease_gene_to_symptom_pub_counts, \n",
    "                                      disease_causes_dict,\n",
    "                                      disease_symptoms_df)\n",
    "disease_df"
   ]
  },
  {
   "cell_type": "markdown",
   "metadata": {},
   "source": [
    "## Save Results"
   ]
  },
  {
   "cell_type": "code",
   "execution_count": null,
   "metadata": {},
   "outputs": [],
   "source": [
    "disease_df.to_csv(output_csv, index = False)"
   ]
  },
  {
   "cell_type": "code",
   "execution_count": null,
   "metadata": {},
   "outputs": [],
   "source": []
  }
 ],
 "metadata": {
  "kernelspec": {
   "display_name": "Python 3",
   "language": "python",
   "name": "python3"
  },
  "language_info": {
   "codemirror_mode": {
    "name": "ipython",
    "version": 3
   },
   "file_extension": ".py",
   "mimetype": "text/x-python",
   "name": "python",
   "nbconvert_exporter": "python",
   "pygments_lexer": "ipython3",
   "version": "3.8.4"
  }
 },
 "nbformat": 4,
 "nbformat_minor": 4
}
