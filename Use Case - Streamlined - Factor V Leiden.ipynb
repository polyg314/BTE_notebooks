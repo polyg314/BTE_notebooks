{
 "cells": [
  {
   "cell_type": "markdown",
   "metadata": {},
   "source": [
    "## Imports"
   ]
  },
  {
   "cell_type": "code",
   "execution_count": 20,
   "metadata": {},
   "outputs": [],
   "source": [
    "## main functions\n",
    "import gene_symptoms_question_functions as gsf\n",
    "## importlib makes sure functions from packages get refreshed\n",
    "import importlib\n",
    "import requests\n",
    "importlib.reload(gsf)\n",
    "import pandas as pd\n",
    "import math\n",
    "from biothings_explorer.user_query_dispatcher import FindConnection\n",
    "from biothings_explorer.hint import Hint\n",
    "ht = Hint()"
   ]
  },
  {
   "cell_type": "markdown",
   "metadata": {},
   "source": [
    "## Set disease and output names"
   ]
  },
  {
   "cell_type": "code",
   "execution_count": 21,
   "metadata": {},
   "outputs": [],
   "source": [
    "disease_name = 'Factor V Leiden mutation'\n",
    "output_csv = \"Factor_V_Leiden_2020-08-27.csv\"\n",
    "symptom_csv = \"Factor_V_Leiden_Symptoms_2020-08-27.csv\""
   ]
  },
  {
   "cell_type": "markdown",
   "metadata": {},
   "source": [
    "## Get disease "
   ]
  },
  {
   "cell_type": "code",
   "execution_count": 22,
   "metadata": {},
   "outputs": [
    {
     "data": {
      "text/plain": [
       "{'UMLS': 'C0584960',\n",
       " 'name': 'Factor V Leiden mutation',\n",
       " 'primary': {'identifier': 'UMLS', 'cls': 'Disease', 'value': 'C0584960'},\n",
       " 'display': 'UMLS(C0584960) name(Factor V Leiden mutation)',\n",
       " 'type': 'Disease'}"
      ]
     },
     "execution_count": 22,
     "metadata": {},
     "output_type": "execute_result"
    }
   ],
   "source": [
    "disease_name = disease_name.lower()\n",
    "disease = ht.query(disease_name)['Disease'][0]\n",
    "disease"
   ]
  },
  {
   "cell_type": "markdown",
   "metadata": {},
   "source": [
    "## Get disease symptoms"
   ]
  },
  {
   "cell_type": "code",
   "execution_count": 23,
   "metadata": {},
   "outputs": [
    {
     "name": "stdout",
     "output_type": "stream",
     "text": [
      "['recurrent thromboembolism', 'hypercoagulability', 'Blood hyperviscosity', 'Thrombophilia', 'abnormal thrombosis', 'Abnormal blood clot', 'Abnormal blood clotting', 'autosomal dominant inheritance', 'Autosomal dominant']\n"
     ]
    },
    {
     "data": {
      "text/plain": [
       "['HP:0004831', 'HP:0100724', 'HP:0001977', 'HP:0000006']"
      ]
     },
     "execution_count": 23,
     "metadata": {},
     "output_type": "execute_result"
    }
   ],
   "source": [
    "# get disease symptoms\n",
    "disease_symptoms_list = gsf.get_disease_symptoms('Thrombophilia')\n",
    "disease_symptoms = disease_symptoms_list[0]\n",
    "disease_symptom_hpids = disease_symptoms_list[1]\n",
    "disease_symptom_dict = disease_symptoms_list[2]\n",
    "disease_symptoms\n",
    "disease_symptom_hpids"
   ]
  },
  {
   "cell_type": "markdown",
   "metadata": {},
   "source": [
    "## Get Symptom Prevalence - based off edges out counts"
   ]
  },
  {
   "cell_type": "code",
   "execution_count": 10,
   "metadata": {},
   "outputs": [
    {
     "ename": "NameError",
     "evalue": "name 'disease_symptom_dict' is not defined",
     "output_type": "error",
     "traceback": [
      "\u001b[0;31m---------------------------------------------------------------------------\u001b[0m",
      "\u001b[0;31mNameError\u001b[0m                                 Traceback (most recent call last)",
      "\u001b[0;32m<ipython-input-10-d431c1b09f32>\u001b[0m in \u001b[0;36m<module>\u001b[0;34m\u001b[0m\n\u001b[0;32m----> 1\u001b[0;31m \u001b[0mdisease_symptom_dict\u001b[0m \u001b[0;34m=\u001b[0m \u001b[0mgsf\u001b[0m\u001b[0;34m.\u001b[0m\u001b[0mget_symtpom_prevalence\u001b[0m\u001b[0;34m(\u001b[0m\u001b[0mdisease_symptom_dict\u001b[0m\u001b[0;34m,\u001b[0m \u001b[0mdisease_name\u001b[0m\u001b[0;34m)\u001b[0m\u001b[0;34m\u001b[0m\u001b[0;34m\u001b[0m\u001b[0m\n\u001b[0m\u001b[1;32m      2\u001b[0m \u001b[0mdisease_symptoms_df\u001b[0m \u001b[0;34m=\u001b[0m \u001b[0mpd\u001b[0m\u001b[0;34m.\u001b[0m\u001b[0mDataFrame\u001b[0m\u001b[0;34m.\u001b[0m\u001b[0mfrom_dict\u001b[0m\u001b[0;34m(\u001b[0m\u001b[0mdisease_symptom_dict\u001b[0m\u001b[0;34m,\u001b[0m \u001b[0morient\u001b[0m\u001b[0;34m=\u001b[0m\u001b[0;34m'index'\u001b[0m\u001b[0;34m)\u001b[0m\u001b[0;34m.\u001b[0m\u001b[0msort_values\u001b[0m\u001b[0;34m(\u001b[0m\u001b[0mby\u001b[0m\u001b[0;34m=\u001b[0m\u001b[0;34m[\u001b[0m\u001b[0;34m'edges_out_count'\u001b[0m\u001b[0;34m]\u001b[0m\u001b[0;34m)\u001b[0m\u001b[0;34m\u001b[0m\u001b[0;34m\u001b[0m\u001b[0m\n\u001b[1;32m      3\u001b[0m disease_symptoms_df = pd.concat([disease_symptoms_df[disease_symptoms_df[\"frequency\"] == \"Very frequent\"],\n\u001b[1;32m      4\u001b[0m                \u001b[0mdisease_symptoms_df\u001b[0m\u001b[0;34m[\u001b[0m\u001b[0mdisease_symptoms_df\u001b[0m\u001b[0;34m[\u001b[0m\u001b[0;34m\"frequency\"\u001b[0m\u001b[0;34m]\u001b[0m \u001b[0;34m==\u001b[0m \u001b[0;34m\"Frequent\"\u001b[0m\u001b[0;34m]\u001b[0m\u001b[0;34m,\u001b[0m\u001b[0;34m\u001b[0m\u001b[0;34m\u001b[0m\u001b[0m\n\u001b[1;32m      5\u001b[0m                \u001b[0mdisease_symptoms_df\u001b[0m\u001b[0;34m[\u001b[0m\u001b[0mdisease_symptoms_df\u001b[0m\u001b[0;34m[\u001b[0m\u001b[0;34m\"frequency\"\u001b[0m\u001b[0;34m]\u001b[0m \u001b[0;34m==\u001b[0m \u001b[0;34m\"Occasional\"\u001b[0m\u001b[0;34m]\u001b[0m\u001b[0;34m,\u001b[0m\u001b[0;34m\u001b[0m\u001b[0;34m\u001b[0m\u001b[0m\n",
      "\u001b[0;31mNameError\u001b[0m: name 'disease_symptom_dict' is not defined"
     ]
    }
   ],
   "source": [
    "disease_symptom_dict = gsf.get_symtpom_prevalence(disease_symptom_dict, disease_name) \n",
    "disease_symptoms_df = pd.DataFrame.from_dict(disease_symptom_dict, orient='index').sort_values(by=['edges_out_count'])\n",
    "disease_symptoms_df = pd.concat([disease_symptoms_df[disease_symptoms_df[\"frequency\"] == \"Very frequent\"],\n",
    "               disease_symptoms_df[disease_symptoms_df[\"frequency\"] == \"Frequent\"],\n",
    "               disease_symptoms_df[disease_symptoms_df[\"frequency\"] == \"Occasional\"],\n",
    "               disease_symptoms_df[disease_symptoms_df[\"frequency\"] == \"Rare\"],\n",
    "               disease_symptoms_df[disease_symptoms_df[\"frequency\"] == \"Unknown\"]\n",
    "              ])\n"
   ]
  },
  {
   "cell_type": "markdown",
   "metadata": {},
   "source": [
    "## Calculate Individual Symptom Scores"
   ]
  },
  {
   "cell_type": "code",
   "execution_count": null,
   "metadata": {},
   "outputs": [],
   "source": [
    "individual_symptom_scores = [];\n",
    "for index,x in disease_symptoms_df.iterrows():\n",
    "    if(x[\"frequency\"] == \"Very frequent\"):\n",
    "        score = 20 / math.sqrt(int(x[\"edges_out_count\"]))\n",
    "    elif(x[\"frequency\"] == \"Frequent\"):\n",
    "        score = 15 / math.sqrt(int(x[\"edges_out_count\"]))\n",
    "    elif(x[\"frequency\"] == \"Occasional\"):\n",
    "        score = 10 / math.sqrt(int(x[\"edges_out_count\"]))\n",
    "    elif(x[\"frequency\"] == \"Rare\"):\n",
    "        score = 5 / math.sqrt(int(x[\"edges_out_count\"]))\n",
    "    elif(x[\"frequency\"] == \"Unknown\"):\n",
    "        score = 5 / math.sqrt(int(x[\"edges_out_count\"]))\n",
    "    individual_symptom_scores.append(score)\n",
    "\n",
    "# print(len(individual_symptom_scores))\n",
    "disease_symptoms_df[\"ISS\"] = individual_symptom_scores"
   ]
  },
  {
   "cell_type": "markdown",
   "metadata": {},
   "source": [
    "## Symptoms Table"
   ]
  },
  {
   "cell_type": "code",
   "execution_count": null,
   "metadata": {},
   "outputs": [],
   "source": [
    "disease_symptoms_df"
   ]
  },
  {
   "cell_type": "code",
   "execution_count": null,
   "metadata": {},
   "outputs": [],
   "source": [
    "disease_symptoms_df.to_csv(symptom_csv, index = False)"
   ]
  },
  {
   "cell_type": "markdown",
   "metadata": {},
   "source": [
    "## Get Disease -> Gene (no intermediates) "
   ]
  },
  {
   "cell_type": "code",
   "execution_count": null,
   "metadata": {},
   "outputs": [],
   "source": [
    "disease_disease_to_genes_dict = gsf.get_disease_to_gene_results(disease)\n",
    "disease_disease_to_genes_dict"
   ]
  },
  {
   "cell_type": "markdown",
   "metadata": {},
   "source": [
    "## Get Disease -> intermediate_node (any except those matching symptoms) -> Gene"
   ]
  },
  {
   "cell_type": "code",
   "execution_count": null,
   "metadata": {},
   "outputs": [],
   "source": [
    "# get results using intermediates \n",
    "node_type_list = (['Gene', 'SequenceVariant', 'ChemicalSubstance', 'Disease', \n",
    "                'MolecularActivity', 'BiologicalProcess', 'CellularComponent', \n",
    "                'Pathway', 'AnatomicalEntity', 'PhenotypicFeature'])"
   ]
  },
  {
   "cell_type": "code",
   "execution_count": null,
   "metadata": {},
   "outputs": [],
   "source": [
    "disease_disease_all_nodes_genes = gsf.predict_many(disease, node_type_list, 'Gene')\n",
    "\n",
    "# Save an object to a file\n",
    "%store disease_disease_all_nodes_genes\n"
   ]
  },
  {
   "cell_type": "code",
   "execution_count": null,
   "metadata": {},
   "outputs": [],
   "source": [
    "# Restore the object\n",
    "%store -r disease_disease_all_nodes_genes\n",
    "disease_disease_all_nodes_genes"
   ]
  },
  {
   "cell_type": "code",
   "execution_count": null,
   "metadata": {},
   "outputs": [],
   "source": [
    "## Remove UMLS \"Genes\"  (not gene specific) \n",
    "disease_disease_all_nodes_genes = disease_disease_all_nodes_genes[~disease_disease_all_nodes_genes['output_id'].str.contains('UMLS')]"
   ]
  },
  {
   "cell_type": "code",
   "execution_count": null,
   "metadata": {},
   "outputs": [],
   "source": [
    "ht.query(\"nudix hydrolases\")\n",
    "## C1705526 \"TP53 wt Allele\"\n",
    "# # ht.query(\"C0916840\")\n",
    "# ht.query(\"C1705526\")"
   ]
  },
  {
   "cell_type": "code",
   "execution_count": null,
   "metadata": {},
   "outputs": [],
   "source": [
    "ht.query(\"Histone Deacetylase\")\n",
    "ht.query(\"EP300 wt Allele\")\n",
    "ht.query(\"nudix hydrolases\")"
   ]
  },
  {
   "cell_type": "code",
   "execution_count": null,
   "metadata": {},
   "outputs": [],
   "source": [
    "max_2_step_genes = 100\n",
    "disease_disease_to_node_to_genes_dict = gsf.get_disease_to_node_to_gene_results(disease_disease_all_nodes_genes, max_2_step_genes, disease_symptoms, disease_symptom_hpids)\n",
    "%store disease_disease_to_node_to_genes_dict"
   ]
  },
  {
   "cell_type": "markdown",
   "metadata": {},
   "source": [
    "## Combine genes from one and two step processes then get rid of any duplicates"
   ]
  },
  {
   "cell_type": "code",
   "execution_count": null,
   "metadata": {},
   "outputs": [],
   "source": [
    "%store -r disease_disease_to_node_to_genes_dict\n",
    "disease_top_genes_list = disease_disease_to_genes_dict[\"disease_to_genes_list\"] + disease_disease_to_node_to_genes_dict[\"top_related_genes_to_disease\"]\n",
    "disease_top_genes_list = list(dict.fromkeys(disease_top_genes_list))\n",
    "# top_genes_list"
   ]
  },
  {
   "cell_type": "markdown",
   "metadata": {},
   "source": [
    "## Get Genes -> Symtoms, filtered by those related to Disease"
   ]
  },
  {
   "cell_type": "code",
   "execution_count": null,
   "metadata": {},
   "outputs": [],
   "source": [
    "disease_relevant_genes_to_symptoms_df = gsf.determined_genes_to_symptoms(disease_top_genes_list, disease_symptoms)\n",
    "# relevant_genes_to_symptoms_df"
   ]
  },
  {
   "cell_type": "code",
   "execution_count": null,
   "metadata": {},
   "outputs": [],
   "source": [
    "%store disease_relevant_genes_to_symptoms_df"
   ]
  },
  {
   "cell_type": "code",
   "execution_count": null,
   "metadata": {},
   "outputs": [],
   "source": [
    "%store -r disease_relevant_genes_to_symptoms_df\n",
    "disease_relevant_genes_list = list(dict.fromkeys(list(disease_relevant_genes_to_symptoms_df[\"input\"])))\n",
    "# relevant_genes_list"
   ]
  },
  {
   "cell_type": "code",
   "execution_count": null,
   "metadata": {},
   "outputs": [],
   "source": [
    "disease_gene_to_symptom_pub_counts = gsf.get_gene_to_symptom_publication_counts(disease_relevant_genes_to_symptoms_df)\n",
    "# gene_to_symptom_pub_counts"
   ]
  },
  {
   "cell_type": "code",
   "execution_count": null,
   "metadata": {},
   "outputs": [],
   "source": [
    "disease_causes_dict = gsf.create_causes_dict(disease_relevant_genes_to_symptoms_df)\n",
    "# causes_dict"
   ]
  },
  {
   "cell_type": "markdown",
   "metadata": {},
   "source": [
    "## Get edges out from each gene\n",
    "For use in normalizing in relevance score"
   ]
  },
  {
   "cell_type": "code",
   "execution_count": null,
   "metadata": {},
   "outputs": [],
   "source": [
    "disease_connection_dict =  gsf.get_connection_normalizing_count(disease_relevant_genes_list,node_type_list)\n",
    "# connection_dict"
   ]
  },
  {
   "cell_type": "code",
   "execution_count": null,
   "metadata": {
    "scrolled": true
   },
   "outputs": [],
   "source": [
    "%store disease_connection_dict"
   ]
  },
  {
   "cell_type": "code",
   "execution_count": null,
   "metadata": {},
   "outputs": [],
   "source": [
    "%store -r disease_connection_dict"
   ]
  },
  {
   "cell_type": "markdown",
   "metadata": {},
   "source": [
    "## Assemble final results"
   ]
  },
  {
   "cell_type": "code",
   "execution_count": null,
   "metadata": {},
   "outputs": [],
   "source": [
    "disease_df = gsf.assemble_final_data_frame(disease_relevant_genes_to_symptoms_df, \n",
    "                                      disease_connection_dict,\n",
    "                                      disease_disease_to_genes_dict['sorted_disease_to_genes'], \n",
    "                                      disease_disease_to_node_to_genes_dict['sorted_disease_to_all_nodes_to_genes'], \n",
    "                                      disease_disease_to_node_to_genes_dict['top_two_step_genes_pub_counts'], \n",
    "                                      disease_gene_to_symptom_pub_counts, \n",
    "                                      disease_causes_dict,\n",
    "                                      disease_symptoms_df)\n",
    "disease_df"
   ]
  },
  {
   "cell_type": "markdown",
   "metadata": {},
   "source": [
    "## Save Results"
   ]
  },
  {
   "cell_type": "code",
   "execution_count": null,
   "metadata": {},
   "outputs": [],
   "source": [
    "disease_df.to_csv(output_csv, index = False)"
   ]
  },
  {
   "cell_type": "code",
   "execution_count": null,
   "metadata": {},
   "outputs": [],
   "source": []
  }
 ],
 "metadata": {
  "kernelspec": {
   "display_name": "Python 3",
   "language": "python",
   "name": "python3"
  },
  "language_info": {
   "codemirror_mode": {
    "name": "ipython",
    "version": 3
   },
   "file_extension": ".py",
   "mimetype": "text/x-python",
   "name": "python",
   "nbconvert_exporter": "python",
   "pygments_lexer": "ipython3",
   "version": "3.8.4"
  }
 },
 "nbformat": 4,
 "nbformat_minor": 4
}
