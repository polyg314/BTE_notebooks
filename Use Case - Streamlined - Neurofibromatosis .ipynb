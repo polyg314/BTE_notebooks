{
 "cells": [
  {
   "cell_type": "markdown",
   "metadata": {},
   "source": [
    "## Imports"
   ]
  },
  {
   "cell_type": "code",
   "execution_count": 21,
   "metadata": {},
   "outputs": [],
   "source": [
    "## main functions\n",
    "import gene_symptoms_question_functions as gsf\n",
    "## importlib makes sure functions from packages get refreshed\n",
    "import importlib\n",
    "import requests\n",
    "importlib.reload(gsf)\n",
    "import pandas as pd\n",
    "import math\n",
    "from biothings_explorer.user_query_dispatcher import FindConnection\n",
    "from biothings_explorer.hint import Hint\n",
    "ht = Hint()"
   ]
  },
  {
   "cell_type": "markdown",
   "metadata": {},
   "source": [
    "## Set disease and output names"
   ]
  },
  {
   "cell_type": "code",
   "execution_count": 22,
   "metadata": {},
   "outputs": [],
   "source": [
    "disease_name = 'Neurofibromatosis'\n",
    "output_csv = \"Neurofibromatosis_2020-08-27.csv\"\n",
    "symptom_csv = \"Neurofibromatosis_Symptoms_2020-08-27.csv\""
   ]
  },
  {
   "cell_type": "markdown",
   "metadata": {},
   "source": [
    "## Get disease "
   ]
  },
  {
   "cell_type": "code",
   "execution_count": 23,
   "metadata": {},
   "outputs": [
    {
     "data": {
      "text/plain": [
       "{'MONDO': 'MONDO:0021061',\n",
       " 'DOID': 'DOID:8712',\n",
       " 'UMLS': 'C0162678',\n",
       " 'name': 'neurofibromatosis',\n",
       " 'MESH': 'D017253',\n",
       " 'primary': {'identifier': 'MONDO',\n",
       "  'cls': 'Disease',\n",
       "  'value': 'MONDO:0021061'},\n",
       " 'display': 'MONDO(MONDO:0021061) DOID(DOID:8712) UMLS(C0162678) MESH(D017253) name(neurofibromatosis)',\n",
       " 'type': 'Disease'}"
      ]
     },
     "execution_count": 23,
     "metadata": {},
     "output_type": "execute_result"
    }
   ],
   "source": [
    "disease_name = disease_name.lower()\n",
    "disease = ht.query(disease_name)['Disease'][0]\n",
    "disease"
   ]
  },
  {
   "cell_type": "markdown",
   "metadata": {},
   "source": [
    "## Get disease symptoms"
   ]
  },
  {
   "cell_type": "code",
   "execution_count": 24,
   "metadata": {},
   "outputs": [
    {
     "name": "stdout",
     "output_type": "stream",
     "text": [
      "['epicanthus', 'Epicanthal fold', 'Epicanthal folds', 'Epicanthic folds', 'Eye folds', 'Palpebronasal fold', 'Plica palpebronasalis', 'Prominent eye folds', 'short stature', 'Decreased body height', 'Height less than 3rd percentile', 'Short stature', 'Small stature', 'Stature below 3rd percentile', 'low posterior hairline', 'Low hairline at back of neck', 'Low posterior hair line', 'prominent nasolabial fold', 'Deep laugh lines', 'Deep nasolabial crease', 'Deep nasolabial fold', 'Deep nasolabial groove', 'Deep smile lines', 'Nasolabial crease, prominent', 'Prominent laugh lines', 'Prominent nasolabial groove', 'Prominent smile lines', 'superior pectus carinatum', 'Pectus carinatum superiorly', 'thick vermilion border', 'Full lips', 'Increased volume of lip', 'Increased volume of lip vermillion', 'Plump lips', 'Prominent lips', 'Thick lips', 'pectus excavatum of inferior sternum', 'Pectus excavatum inferiorly', 'hypertelorism', 'Excessive orbital separation', 'Increased distance between eye sockets', 'Increased distance between eyes', 'Increased interpupillary distance', 'Ocular hypertelorism', 'Wide-set eyes', 'Widely spaced eyes', 'Widened interpupillary distance', 'specific learning disability', 'axillary freckling', 'multiple cafe-au-lait spots', 'muscle weakness', 'Muscle weakness', 'Muscular weakness', 'macrocephaly', 'Increased size of cranium', 'Increased size of skull', 'Large head', 'Large head circumference', 'Macrocrania', 'Megacephaly', 'pulmonic stenosis', 'Narrowing of pulmonic valve', 'Pulmonary stenosis', 'Pulmonary valve stenosis', 'Pulmonic valve stenosis', 'posteriorly rotated ears', 'Ear, posterior angulation, increased', 'Ears rotated toward back of head', 'Posteriorly angulated ears', 'Posteriorly rotated', 'Posteriorly rotated auricles', 'Posteriorly-angulated ears', 'Posteriorly-rotated ears', 'intellectual disability', 'Intellectual disability', 'Mental deficiency', 'Mental retardation', 'Mental retardation, nonspecific', 'Mental-retardation', 'Nonprogressive intellectual disability', 'Nonprogressive mental retardation', 'neuroblastoma', 'Cancer of early nerve cells', 'neurofibromas', 'Neurofibromata', 'Neurofibromatosis', 'downslanted palpebral fissures', 'Antimongoloid eye slant', 'Antimongoloid slant of palpebral fissures', 'Antimongoloid slanted palpebral fissures', 'Down slanting palpebral fissures', 'Down-slanted palpebral fissures', 'Down-slanting palpebral fissure', 'Down-slanting palpebral fissures', 'Downslanting palpebral fissure', 'Downslanting palpebral fissures', 'Downward slanted palpebral fissures', 'Downward slanting of the opening between the eyelids', 'Downward slanting palpebral fissures', 'Downward-slanting palpebral fissures', 'Palpebral fissures down-slanted', 'delayed speech and language development', 'Deficiency of speech development', 'Delayed language development', 'Delayed speech', 'Delayed speech acquisition', 'Delayed speech and language development', 'Delayed speech development', 'Impaired speech and language development', 'Impaired speech development', 'Language delay', 'Language delayed', 'Language development deficit', 'Late-onset speech development', 'Poor language development', 'Speech and language delay', 'Speech and language difficulties', 'Speech delay', 'scoliosis', 'secundum atrial septal defect', 'Atrial septal defect, ostium secundum type', 'Ostium secundum atrial septal defect', 'Patent ostium secundum', 'global developmental delay', 'Delayed cognitive development', 'Delayed development', 'Delayed developmental milestones', 'Delayed intellectual development', 'Delayed milestones', 'Delayed psychomotor development', 'Developmental delay', 'Developmental delay in early childhood', 'Developmental delay, global', 'Developmental retardation', 'Lack of psychomotor development', 'Motor and developmental delay', 'Psychomotor delay', 'Psychomotor development deficiency', 'Psychomotor development failure', 'Psychomotor developmental delay', 'Retarded development', 'Retarded mental development', 'Retarded psychomotor development', 'malar flattening', 'Decreased size of malar bone', 'Depressed malar region', 'Flat cheekbone', 'Malar hypoplasia', 'Underdevelopment of malar bone', 'Zygomatic flattening', 'short neck', 'Cervical shortening', 'Decreased cervical height', 'Decreased cervical length', 'Decreased length of neck', 'Short neck', 'midface retrusion', 'Decreased size of midface', 'Flat midface', 'Hypoplasia of midface', 'Midface deficiency', 'Midface hypoplasia', 'Midface retrusion', 'Midface, flat', 'Retrusive midface', 'Underdevelopment of midface', 'depressed nasal bridge', 'Depressed bridge of nose', 'Depressed nasal bridge', 'Depressed nasal root', 'Flat bridge of nose', 'Flat nasal bridge', 'Flat nasal root', 'Flat, nasal bridge', 'Flattened nasal bridge', 'Low nasal bridge', 'Low nasal root', 'Retruded bridge of nose', 'Retruded nasal bridge', 'ptosis', 'Blepharoptosis', 'Drooping upper eyelid', 'Eyelid ptosis', 'pectus excavatum', 'Funnel chest', 'inguinal freckling', 'Freckles in groin region', 'cubitus valgus', 'Outward turned elbows', 'plexiform neurofibroma', 'optic nerve glioma', 'Optic glioma', 'webbed neck', 'Neck webbing', 'Pterygium colli', 'Webbed neck', 'autosomal dominant inheritance', 'Autosomal dominant', 'cryptorchidism', 'Cryptorchism', 'Undescended testes', 'Undescended testis', 'lisch nodules', 'Iris hamartomas', 'low-set ears', 'Low set ears', 'Low-set ears', 'Lowset ears', 'Melotia']\n"
     ]
    },
    {
     "data": {
      "text/plain": [
       "['HP:0000286',\n",
       " 'HP:0004322',\n",
       " 'HP:0002162',\n",
       " 'HP:0005272',\n",
       " 'HP:0000917',\n",
       " 'HP:0012471',\n",
       " 'HP:0000915',\n",
       " 'HP:0000316',\n",
       " 'HP:0001328',\n",
       " 'HP:0000997',\n",
       " 'HP:0007565',\n",
       " 'HP:0001324',\n",
       " 'HP:0000256',\n",
       " 'HP:0001642',\n",
       " 'HP:0000358',\n",
       " 'HP:0001249',\n",
       " 'HP:0003006',\n",
       " 'HP:0001067',\n",
       " 'HP:0000494',\n",
       " 'HP:0000750',\n",
       " 'HP:0002650',\n",
       " 'HP:0001684',\n",
       " 'HP:0001263',\n",
       " 'HP:0000272',\n",
       " 'HP:0000470',\n",
       " 'HP:0011800',\n",
       " 'HP:0005280',\n",
       " 'HP:0000508',\n",
       " 'HP:0000767',\n",
       " 'HP:0030052',\n",
       " 'HP:0002967',\n",
       " 'HP:0009732',\n",
       " 'HP:0009734',\n",
       " 'HP:0000465',\n",
       " 'HP:0000006',\n",
       " 'HP:0000028',\n",
       " 'HP:0009737',\n",
       " 'HP:0000369']"
      ]
     },
     "execution_count": 24,
     "metadata": {},
     "output_type": "execute_result"
    }
   ],
   "source": [
    "# get disease symptoms\n",
    "disease_symptoms_list = gsf.get_disease_symptoms(disease_name)\n",
    "disease_symptoms = disease_symptoms_list[0]\n",
    "disease_symptom_hpids = disease_symptoms_list[1]\n",
    "disease_symptom_dict = disease_symptoms_list[2]\n",
    "disease_symptoms\n",
    "disease_symptom_hpids"
   ]
  },
  {
   "cell_type": "markdown",
   "metadata": {},
   "source": [
    "## Get Symptom Prevalence - based off edges out counts"
   ]
  },
  {
   "cell_type": "code",
   "execution_count": null,
   "metadata": {},
   "outputs": [],
   "source": [
    "disease_symptom_dict = gsf.get_symtpom_prevalence(disease_symptom_dict, disease_name) \n",
    "disease_symptoms_df = pd.DataFrame.from_dict(disease_symptom_dict, orient='index').sort_values(by=['edges_out_count'])\n",
    "disease_symptoms_df = pd.concat([disease_symptoms_df[disease_symptoms_df[\"frequency\"] == \"Very frequent\"],\n",
    "               disease_symptoms_df[disease_symptoms_df[\"frequency\"] == \"Frequent\"],\n",
    "               disease_symptoms_df[disease_symptoms_df[\"frequency\"] == \"Occasional\"],\n",
    "               disease_symptoms_df[disease_symptoms_df[\"frequency\"] == \"Rare\"],\n",
    "               disease_symptoms_df[disease_symptoms_df[\"frequency\"] == \"Unknown\"]\n",
    "              ])\n"
   ]
  },
  {
   "cell_type": "markdown",
   "metadata": {},
   "source": [
    "## Calculate Individual Symptom Scores"
   ]
  },
  {
   "cell_type": "code",
   "execution_count": null,
   "metadata": {},
   "outputs": [],
   "source": [
    "individual_symptom_scores = [];\n",
    "for index,x in disease_symptoms_df.iterrows():\n",
    "    if(x[\"frequency\"] == \"Very frequent\"):\n",
    "        score = 20 / math.sqrt(int(x[\"edges_out_count\"]))\n",
    "    elif(x[\"frequency\"] == \"Frequent\"):\n",
    "        score = 15 / math.sqrt(int(x[\"edges_out_count\"]))\n",
    "    elif(x[\"frequency\"] == \"Occasional\"):\n",
    "        score = 10 / math.sqrt(int(x[\"edges_out_count\"]))\n",
    "    elif(x[\"frequency\"] == \"Rare\"):\n",
    "        score = 5 / math.sqrt(int(x[\"edges_out_count\"]))\n",
    "    elif(x[\"frequency\"] == \"Unknown\"):\n",
    "        score = 5 / math.sqrt(int(x[\"edges_out_count\"]))\n",
    "    individual_symptom_scores.append(score)\n",
    "\n",
    "# print(len(individual_symptom_scores))\n",
    "disease_symptoms_df[\"ISS\"] = individual_symptom_scores"
   ]
  },
  {
   "cell_type": "markdown",
   "metadata": {},
   "source": [
    "## Symptoms Table"
   ]
  },
  {
   "cell_type": "code",
   "execution_count": null,
   "metadata": {},
   "outputs": [],
   "source": [
    "disease_symptoms_df"
   ]
  },
  {
   "cell_type": "code",
   "execution_count": null,
   "metadata": {},
   "outputs": [],
   "source": [
    "disease_symptoms_df.to_csv(symptom_csv, index = False)"
   ]
  },
  {
   "cell_type": "markdown",
   "metadata": {},
   "source": [
    "## Get Disease -> Gene (no intermediates) "
   ]
  },
  {
   "cell_type": "code",
   "execution_count": null,
   "metadata": {},
   "outputs": [],
   "source": [
    "disease_disease_to_genes_dict = gsf.get_disease_to_gene_results(disease)\n",
    "disease_disease_to_genes_dict"
   ]
  },
  {
   "cell_type": "markdown",
   "metadata": {},
   "source": [
    "## Get Disease -> intermediate_node (any except those matching symptoms) -> Gene"
   ]
  },
  {
   "cell_type": "code",
   "execution_count": null,
   "metadata": {},
   "outputs": [],
   "source": [
    "# get results using intermediates \n",
    "node_type_list = (['Gene', 'SequenceVariant', 'ChemicalSubstance', 'Disease', \n",
    "                'MolecularActivity', 'BiologicalProcess', 'CellularComponent', \n",
    "                'Pathway', 'AnatomicalEntity', 'PhenotypicFeature'])"
   ]
  },
  {
   "cell_type": "code",
   "execution_count": null,
   "metadata": {},
   "outputs": [],
   "source": [
    "disease_disease_all_nodes_genes = gsf.predict_many(disease, node_type_list, 'Gene')\n",
    "\n",
    "# Save an object to a file\n",
    "%store disease_disease_all_nodes_genes\n"
   ]
  },
  {
   "cell_type": "code",
   "execution_count": null,
   "metadata": {},
   "outputs": [],
   "source": [
    "# Restore the object\n",
    "%store -r disease_disease_all_nodes_genes\n",
    "disease_disease_all_nodes_genes"
   ]
  },
  {
   "cell_type": "code",
   "execution_count": null,
   "metadata": {},
   "outputs": [],
   "source": [
    "## Remove UMLS \"Genes\"  (not gene specific) \n",
    "disease_disease_all_nodes_genes = disease_disease_all_nodes_genes[~disease_disease_all_nodes_genes['output_id'].str.contains('UMLS')]"
   ]
  },
  {
   "cell_type": "code",
   "execution_count": null,
   "metadata": {},
   "outputs": [],
   "source": [
    "max_2_step_genes = 100\n",
    "disease_disease_to_node_to_genes_dict = gsf.get_disease_to_node_to_gene_results(disease_disease_all_nodes_genes, max_2_step_genes, disease_symptoms, disease_symptom_hpids)\n",
    "%store disease_disease_to_node_to_genes_dict"
   ]
  },
  {
   "cell_type": "markdown",
   "metadata": {},
   "source": [
    "## Combine genes from one and two step processes then get rid of any duplicates"
   ]
  },
  {
   "cell_type": "code",
   "execution_count": null,
   "metadata": {},
   "outputs": [],
   "source": [
    "%store -r disease_disease_to_node_to_genes_dict\n",
    "disease_top_genes_list = disease_disease_to_genes_dict[\"disease_to_genes_list\"] + disease_disease_to_node_to_genes_dict[\"top_related_genes_to_disease\"]\n",
    "disease_top_genes_list = list(dict.fromkeys(disease_top_genes_list))\n",
    "# top_genes_list"
   ]
  },
  {
   "cell_type": "markdown",
   "metadata": {},
   "source": [
    "## Get Genes -> Symtoms, filtered by those related to Disease"
   ]
  },
  {
   "cell_type": "code",
   "execution_count": null,
   "metadata": {},
   "outputs": [],
   "source": [
    "disease_relevant_genes_to_symptoms_df = gsf.determined_genes_to_symptoms(disease_top_genes_list, disease_symptoms)\n",
    "# relevant_genes_to_symptoms_df"
   ]
  },
  {
   "cell_type": "code",
   "execution_count": null,
   "metadata": {},
   "outputs": [],
   "source": [
    "%store disease_relevant_genes_to_symptoms_df"
   ]
  },
  {
   "cell_type": "code",
   "execution_count": null,
   "metadata": {},
   "outputs": [],
   "source": [
    "%store -r disease_relevant_genes_to_symptoms_df\n",
    "disease_relevant_genes_list = list(dict.fromkeys(list(disease_relevant_genes_to_symptoms_df[\"input\"])))\n",
    "# relevant_genes_list"
   ]
  },
  {
   "cell_type": "code",
   "execution_count": null,
   "metadata": {},
   "outputs": [],
   "source": [
    "disease_gene_to_symptom_pub_counts = gsf.get_gene_to_symptom_publication_counts(disease_relevant_genes_to_symptoms_df)\n",
    "# gene_to_symptom_pub_counts"
   ]
  },
  {
   "cell_type": "code",
   "execution_count": null,
   "metadata": {},
   "outputs": [],
   "source": [
    "disease_causes_dict = gsf.create_causes_dict(disease_relevant_genes_to_symptoms_df)\n",
    "# causes_dict"
   ]
  },
  {
   "cell_type": "markdown",
   "metadata": {},
   "source": [
    "## Get edges out from each gene\n",
    "For use in normalizing in relevance score"
   ]
  },
  {
   "cell_type": "code",
   "execution_count": null,
   "metadata": {},
   "outputs": [],
   "source": [
    "disease_connection_dict =  gsf.get_connection_normalizing_count(disease_relevant_genes_list,node_type_list)\n",
    "# connection_dict"
   ]
  },
  {
   "cell_type": "code",
   "execution_count": null,
   "metadata": {
    "scrolled": true
   },
   "outputs": [],
   "source": [
    "%store disease_connection_dict"
   ]
  },
  {
   "cell_type": "code",
   "execution_count": null,
   "metadata": {},
   "outputs": [],
   "source": [
    "%store -r disease_connection_dict"
   ]
  },
  {
   "cell_type": "markdown",
   "metadata": {},
   "source": [
    "## Assemble final results"
   ]
  },
  {
   "cell_type": "code",
   "execution_count": null,
   "metadata": {},
   "outputs": [],
   "source": [
    "disease_df = gsf.assemble_final_data_frame(disease_relevant_genes_to_symptoms_df, \n",
    "                                      disease_connection_dict,\n",
    "                                      disease_disease_to_genes_dict['sorted_disease_to_genes'], \n",
    "                                      disease_disease_to_node_to_genes_dict['sorted_disease_to_all_nodes_to_genes'], \n",
    "                                      disease_disease_to_node_to_genes_dict['top_two_step_genes_pub_counts'], \n",
    "                                      disease_gene_to_symptom_pub_counts, \n",
    "                                      disease_causes_dict,\n",
    "                                      disease_symptoms_df)\n",
    "disease_df"
   ]
  },
  {
   "cell_type": "markdown",
   "metadata": {},
   "source": [
    "## Save Results"
   ]
  },
  {
   "cell_type": "code",
   "execution_count": null,
   "metadata": {},
   "outputs": [],
   "source": [
    "disease_df.to_csv(output_csv, index = False)"
   ]
  },
  {
   "cell_type": "code",
   "execution_count": null,
   "metadata": {},
   "outputs": [],
   "source": []
  }
 ],
 "metadata": {
  "kernelspec": {
   "display_name": "Python 3",
   "language": "python",
   "name": "python3"
  },
  "language_info": {
   "codemirror_mode": {
    "name": "ipython",
    "version": 3
   },
   "file_extension": ".py",
   "mimetype": "text/x-python",
   "name": "python",
   "nbconvert_exporter": "python",
   "pygments_lexer": "ipython3",
   "version": "3.8.4"
  }
 },
 "nbformat": 4,
 "nbformat_minor": 4
}
